{
 "cells": [
  {
   "cell_type": "markdown",
   "metadata": {},
   "source": [
    "# Hands on word embeddings"
   ]
  },
  {
   "cell_type": "markdown",
   "metadata": {},
   "source": [
    "Pre-trained embeddings are available from many companies and organisations. You can adopt them, saving you some time and resources\n",
    "\n",
    "Have a look at...\n",
    "- [Gensim's documentation](https://radimrehurek.com/gensim/models/word2vec.html)\n",
    "- [Google's word2vec project](https://code.google.com/archive/p/word2vec/)\n",
    "\n",
    "There are may pre-trained word2vec models available. Consider...\n",
    "- [Gensim's](https://github.com/RaRe-Technologies/gensim-data)\n",
    "- [University of Oslo's](http://vectors.nlpl.eu/repository/)"
   ]
  },
  {
   "cell_type": "markdown",
   "metadata": {},
   "source": [
    "The coming 2 cells represent alternaties to perform the same thing (almost)\n",
    "\n",
    "1. Downloading the Google w2v embeddigns using the book library\n",
    "2. Using w2v embeddings you have downloaded in advance\n",
    "\n",
    "The first one takes long (use with caution). The second one does not \n",
    "take that long (because you are supposed to have downloaded the \n",
    "resource in advance)"
   ]
  },
  {
   "cell_type": "code",
   "execution_count": 1,
   "metadata": {
    "scrolled": true
   },
   "outputs": [
    {
     "name": "stderr",
     "output_type": "stream",
     "text": [
      "2022-10-31 16:02:04.222576: I tensorflow/core/platform/cpu_feature_guard.cc:193] This TensorFlow binary is optimized with oneAPI Deep Neural Network Library (oneDNN) to use the following CPU instructions in performance-critical operations:  AVX2 FMA\n",
      "To enable them in other operations, rebuild TensorFlow with the appropriate compiler flags.\n",
      "2022-10-31 16:02:04.658412: W tensorflow/stream_executor/platform/default/dso_loader.cc:64] Could not load dynamic library 'libcudart.so.11.0'; dlerror: libcudart.so.11.0: cannot open shared object file: No such file or directory\n",
      "2022-10-31 16:02:04.658436: I tensorflow/stream_executor/cuda/cudart_stub.cc:29] Ignore above cudart dlerror if you do not have a GPU set up on your machine.\n",
      "2022-10-31 16:02:04.703602: E tensorflow/stream_executor/cuda/cuda_blas.cc:2981] Unable to register cuBLAS factory: Attempting to register factory for plugin cuBLAS when one has already been registered\n",
      "2022-10-31 16:02:05.641525: W tensorflow/stream_executor/platform/default/dso_loader.cc:64] Could not load dynamic library 'libnvinfer.so.7'; dlerror: libnvinfer.so.7: cannot open shared object file: No such file or directory\n",
      "2022-10-31 16:02:05.641618: W tensorflow/stream_executor/platform/default/dso_loader.cc:64] Could not load dynamic library 'libnvinfer_plugin.so.7'; dlerror: libnvinfer_plugin.so.7: cannot open shared object file: No such file or directory\n",
      "2022-10-31 16:02:05.641626: W tensorflow/compiler/tf2tensorrt/utils/py_utils.cc:38] TF-TRT Warning: Cannot dlopen some TensorRT libraries. If you would like to use Nvidia GPU with TensorRT, please make sure the missing libraries mentioned above are installed properly.\n",
      "2022-10-31 16:02:06.456500: W tensorflow/stream_executor/platform/default/dso_loader.cc:64] Could not load dynamic library 'libcuda.so.1'; dlerror: libcuda.so.1: cannot open shared object file: No such file or directory\n",
      "2022-10-31 16:02:06.456560: W tensorflow/stream_executor/cuda/cuda_driver.cc:263] failed call to cuInit: UNKNOWN ERROR (303)\n",
      "2022-10-31 16:02:06.456605: I tensorflow/stream_executor/cuda/cuda_diagnostics.cc:156] kernel driver does not appear to be running on this host (lobo): /proc/driver/nvidia/version does not exist\n",
      "/home/albarron/.local/lib/python3.8/site-packages/pugnlp/constants.py:136: FutureWarning: The pandas.datetime class is deprecated and will be removed from pandas in a future version. Import from datetime module instead.\n",
      "  [datetime.datetime, pd.datetime, pd.Timestamp])\n",
      "/home/albarron/.local/lib/python3.8/site-packages/pugnlp/constants.py:158: FutureWarning: The pandas.datetime class is deprecated and will be removed from pandas in a future version. Import from datetime module instead.\n",
      "  MIN_TIMESTAMP = pd.Timestamp(pd.datetime(1677, 9, 22, 0, 12, 44), tz='utc')\n",
      "/home/albarron/.local/lib/python3.8/site-packages/pugnlp/tutil.py:100: FutureWarning: The pandas.np module is deprecated and will be removed from pandas in a future version. Import numpy directly instead.\n",
      "  np = pd.np\n",
      "/home/albarron/.local/lib/python3.8/site-packages/pugnlp/util.py:80: FutureWarning: The pandas.np module is deprecated and will be removed from pandas in a future version. Import numpy directly instead.\n",
      "  np = pd.np\n",
      "/home/albarron/.local/lib/python3.8/site-packages/nlpia/futil.py:30: FutureWarning: The pandas.np module is deprecated and will be removed from pandas in a future version. Import numpy directly instead.\n",
      "  np = pd.np\n",
      "/home/albarron/.local/lib/python3.8/site-packages/nlpia/loaders.py:78: FutureWarning: The pandas.np module is deprecated and will be removed from pandas in a future version. Import numpy directly instead.\n",
      "  np = pd.np\n",
      "100%|████████████████████████████████████████████████████████| 402111/402111 [03:24<00:00, 1970.43it/s]"
     ]
    },
    {
     "name": "stdout",
     "output_type": "stream",
     "text": [
      "2022-10-31 16:05:33,659 WARNING:  nlpia.loaders:528:normalize_ext_rename normalize_ext.filepath=/home/albarron/.local/lib/python3.8/site-packages/nlpia/bigdata/googlenews-vectors-negative300.bin.gz\n",
      "2022-10-31 16:05:33,700 WARNING:  nlpia.loaders:530:normalize_ext_rename download_unzip.new_filepaths=/home/albarron/.local/lib/python3.8/site-packages/nlpia/bigdata/googlenews-vectors-negative300.bin.gz\n",
      "2022-10-31 16:05:33,701 WARNING:  nlpia.loaders:533:normalize_ext_rename download_unzip.filepath=/home/albarron/.local/lib/python3.8/site-packages/nlpia/bigdata/googlenews-vectors-negative300.bin.gz\n"
     ]
    },
    {
     "name": "stderr",
     "output_type": "stream",
     "text": [
      "\n"
     ]
    }
   ],
   "source": [
    "# Downloading Gensim's word2vec pre-trained model (run it only once)\n",
    "# Execute the next block only once (the model is big!)\n",
    "# I tested this in early Novemmer 2022, but even the book says it could trigger errors.\n",
    "from nlpia.data.loaders import get_data\n",
    "word_vectors = get_data('word2vec')"
   ]
  },
  {
   "cell_type": "code",
   "execution_count": null,
   "metadata": {},
   "outputs": [],
   "source": [
    "# Alternative 2: Once the resouce has been downloaded, we have to import it\n",
    "\n",
    "from gensim.models.keyedvectors import KeyedVectors\n",
    "GOOGLE_VECTORS = \"/some/reasonable/path/GoogleNews-vectors-negative300.bin.gz\"\n",
    "word_vectors = KeyedVectors.load_word2vec_format(GOOGLE_VECTORS,\n",
    "     binary=True, limit=200000)\n",
    "\n",
    "# 200000 limits the number of loaded vectors to 200k only \n",
    "# The aim is speeding up and saving some memory (just for the class)"
   ]
  },
  {
   "cell_type": "markdown",
   "metadata": {},
   "source": [
    "**Back to the slides**"
   ]
  },
  {
   "cell_type": "markdown",
   "metadata": {},
   "source": [
    "## Retrieving the most similar vectors"
   ]
  },
  {
   "cell_type": "code",
   "execution_count": 2,
   "metadata": {},
   "outputs": [
    {
     "data": {
      "text/plain": [
       "[('cook', 0.6973530650138855),\n",
       " ('oven_roasting', 0.6754531264305115),\n",
       " ('Slow_cooker', 0.6742031574249268),\n",
       " ('sweet_potatoes', 0.6600280404090881),\n",
       " ('stir_fry_vegetables', 0.6548759341239929)]"
      ]
     },
     "execution_count": 2,
     "metadata": {},
     "output_type": "execute_result"
    }
   ],
   "source": [
    "word_vectors.most_similar(positive=['cooking', 'potatoes'], topn=5)"
   ]
  },
  {
   "cell_type": "code",
   "execution_count": 4,
   "metadata": {},
   "outputs": [
    {
     "data": {
      "text/plain": [
       "[('cook', 0.7584654092788696),\n",
       " ('Cooking', 0.7552592158317566),\n",
       " ('baking', 0.6751805543899536),\n",
       " ('cookery', 0.6722506880760193),\n",
       " ('humongous_belly', 0.6695600748062134)]"
      ]
     },
     "execution_count": 4,
     "metadata": {},
     "output_type": "execute_result"
    }
   ],
   "source": [
    "word_vectors.most_similar(positive=['cooking'], topn=5)"
   ]
  },
  {
   "cell_type": "code",
   "execution_count": 8,
   "metadata": {},
   "outputs": [
    {
     "data": {
      "text/plain": [
       "[('reagan', 0.613964319229126)]"
      ]
     },
     "execution_count": 8,
     "metadata": {},
     "output_type": "execute_result"
    }
   ],
   "source": [
    "word_vectors.most_similar(positive=['bush', 'clinton'], topn=1) # not there with 200k"
   ]
  },
  {
   "cell_type": "code",
   "execution_count": 7,
   "metadata": {},
   "outputs": [
    {
     "data": {
      "text/plain": [
       "[('Obama', 0.821182131767273)]"
      ]
     },
     "execution_count": 7,
     "metadata": {},
     "output_type": "execute_result"
    }
   ],
   "source": [
    "word_vectors.most_similar(positive=['Bush', 'Clinton'], topn=1) # not there with 200k"
   ]
  },
  {
   "cell_type": "code",
   "execution_count": 6,
   "metadata": {},
   "outputs": [
    {
     "data": {
      "text/plain": [
       "[('President', 0.5852983593940735)]"
      ]
     },
     "execution_count": 6,
     "metadata": {},
     "output_type": "execute_result"
    }
   ],
   "source": [
    "word_vectors.most_similar(positive=['bush', 'president'], topn=1)"
   ]
  },
  {
   "cell_type": "code",
   "execution_count": 9,
   "metadata": {},
   "outputs": [
    {
     "data": {
      "text/plain": [
       "[('President', 0.6760360598564148)]"
      ]
     },
     "execution_count": 9,
     "metadata": {},
     "output_type": "execute_result"
    }
   ],
   "source": [
    "word_vectors.most_similar(positive=['Biden', 'president'], topn=1)"
   ]
  },
  {
   "cell_type": "code",
   "execution_count": 11,
   "metadata": {},
   "outputs": [
    {
     "data": {
      "text/plain": [
       "[('pastas', 0.6319469809532166),\n",
       " ('Palermo', 0.629331111907959),\n",
       " ('panettone', 0.6292574405670166)]"
      ]
     },
     "execution_count": 11,
     "metadata": {},
     "output_type": "execute_result"
    }
   ],
   "source": [
    "word_vectors.most_similar(positive=['bologna', 'pasta'], topn=3)"
   ]
  },
  {
   "cell_type": "code",
   "execution_count": 12,
   "metadata": {},
   "outputs": [
    {
     "data": {
      "text/plain": [
       "[('meatloaf', 0.6751123070716858),\n",
       " ('ziti', 0.6721709370613098),\n",
       " ('ravioli', 0.6670635342597961)]"
      ]
     },
     "execution_count": 12,
     "metadata": {},
     "output_type": "execute_result"
    }
   ],
   "source": [
    "word_vectors.most_similar(positive=['bologna', 'pasta'], topn=3)"
   ]
  },
  {
   "cell_type": "code",
   "execution_count": 13,
   "metadata": {},
   "outputs": [
    {
     "data": {
      "text/plain": [
       "[('Tennessee', 0.5758107900619507),\n",
       " ('grilled_herbed', 0.5744916796684265),\n",
       " ('burgoo', 0.5679264664649963)]"
      ]
     },
     "execution_count": 13,
     "metadata": {},
     "output_type": "execute_result"
    }
   ],
   "source": [
    "word_vectors.most_similar(positive=['Kentucky', 'chicken'], topn=3)"
   ]
  },
  {
   "cell_type": "code",
   "execution_count": 14,
   "metadata": {},
   "outputs": [
    {
     "data": {
      "text/plain": [
       "[('red_sox', 0.6523391604423523),\n",
       " ('mlb', 0.6118411421775818),\n",
       " ('phillies', 0.6006778478622437)]"
      ]
     },
     "execution_count": 14,
     "metadata": {},
     "output_type": "execute_result"
    }
   ],
   "source": [
    "word_vectors.most_similar(positive=['atlanta', 'baseball'], topn=3)"
   ]
  },
  {
   "cell_type": "code",
   "execution_count": null,
   "metadata": {},
   "outputs": [],
   "source": [
    "# Something else?\n",
    "word_vectors.most_similar(positive=[None, None] , topn=3)"
   ]
  },
  {
   "cell_type": "markdown",
   "metadata": {},
   "source": [
    "## Retrieving the most similar vectors, after subtraction"
   ]
  },
  {
   "cell_type": "code",
   "execution_count": null,
   "metadata": {},
   "outputs": [],
   "source": [
    "# Let us load a bigger model (if you went for the second alternative)\n",
    "from gensim.models.keyedvectors import KeyedVectors\n",
    "GOOGLE_VECTORS = \"/some/reasonable/path/GoogleNews-vectors-negative300.bin.gz\"\n",
    "word_vectors = KeyedVectors.load_word2vec_format(GOOGLE_VECTORS,\n",
    "    binary=True, limit=400000)"
   ]
  },
  {
   "cell_type": "code",
   "execution_count": 20,
   "metadata": {},
   "outputs": [
    {
     "data": {
      "text/plain": [
       "[('Milan', 0.5907516479492188),\n",
       " ('Bologna', 0.5323939919471741),\n",
       " ('Genoa', 0.48967602849006653)]"
      ]
     },
     "execution_count": 20,
     "metadata": {},
     "output_type": "execute_result"
    }
   ],
   "source": [
    "word_vectors.most_similar(positive=['Chicago', 'Italy'], negative=['America'], topn=3)"
   ]
  },
  {
   "cell_type": "code",
   "execution_count": 16,
   "metadata": {},
   "outputs": [
    {
     "data": {
      "text/plain": [
       "[('Belgium', 0.5782909989356995),\n",
       " ('Joel_Chenal', 0.5722925662994385),\n",
       " ('extradites_Noriega', 0.5573993921279907)]"
      ]
     },
     "execution_count": 16,
     "metadata": {},
     "output_type": "execute_result"
    }
   ],
   "source": [
    "# Not Germany with 200k\n",
    "word_vectors.most_similar(positive=['Germany', 'France'], negative=['Europe'], topn=3)"
   ]
  },
  {
   "cell_type": "code",
   "execution_count": 24,
   "metadata": {},
   "outputs": [
    {
     "data": {
      "text/plain": [
       "[('Spanish', 0.4955134391784668),\n",
       " ('Jose_Luis', 0.46971771121025085),\n",
       " ('El_Salvador', 0.467809796333313)]"
      ]
     },
     "execution_count": 24,
     "metadata": {},
     "output_type": "execute_result"
    }
   ],
   "source": [
    "word_vectors.most_similar(positive=['Spain', 'America'], negative=['Europe'], topn=3)"
   ]
  },
  {
   "cell_type": "code",
   "execution_count": 25,
   "metadata": {},
   "outputs": [
    {
     "data": {
      "text/plain": [
       "[('Argentina', 0.3731328845024109),\n",
       " ('Chile', 0.36462217569351196),\n",
       " ('Panamerican', 0.351054310798645)]"
      ]
     },
     "execution_count": 25,
     "metadata": {},
     "output_type": "execute_result"
    }
   ],
   "source": [
    "word_vectors.most_similar(positive=['Spain', 'America'], negative=['Europe', 'language'], topn=3)"
   ]
  },
  {
   "cell_type": "markdown",
   "metadata": {},
   "source": [
    "**Back the slides**"
   ]
  },
  {
   "cell_type": "markdown",
   "metadata": {},
   "source": [
    "## Finding the \"outlier\" (or indeed the least similar word)"
   ]
  },
  {
   "cell_type": "code",
   "execution_count": 26,
   "metadata": {},
   "outputs": [
    {
     "data": {
      "text/plain": [
       "'computer'"
      ]
     },
     "execution_count": 26,
     "metadata": {},
     "output_type": "execute_result"
    }
   ],
   "source": [
    "word_vectors.doesnt_match(\"potatoes milk cake computer\".split())"
   ]
  },
  {
   "cell_type": "code",
   "execution_count": 27,
   "metadata": {},
   "outputs": [
    {
     "data": {
      "text/plain": [
       "'spanish'"
      ]
     },
     "execution_count": 27,
     "metadata": {},
     "output_type": "execute_result"
    }
   ],
   "source": [
    "word_vectors.doesnt_match(\"spanish italian french\".split())"
   ]
  },
  {
   "cell_type": "code",
   "execution_count": 28,
   "metadata": {},
   "outputs": [
    {
     "data": {
      "text/plain": [
       "'spritz'"
      ]
     },
     "execution_count": 28,
     "metadata": {},
     "output_type": "execute_result"
    }
   ],
   "source": [
    "word_vectors.doesnt_match(\"beer wine spritz water\".split())"
   ]
  },
  {
   "cell_type": "code",
   "execution_count": 29,
   "metadata": {},
   "outputs": [
    {
     "data": {
      "text/plain": [
       "'speech'"
      ]
     },
     "execution_count": 29,
     "metadata": {},
     "output_type": "execute_result"
    }
   ],
   "source": [
    "word_vectors.doesnt_match(\"linguistics semantics pragmatics speech\".split())"
   ]
  },
  {
   "cell_type": "code",
   "execution_count": 30,
   "metadata": {},
   "outputs": [
    {
     "data": {
      "text/plain": [
       "'fish'"
      ]
     },
     "execution_count": 30,
     "metadata": {},
     "output_type": "execute_result"
    }
   ],
   "source": [
    "word_vectors.doesnt_match(\"dog cat snake fish\".split())"
   ]
  },
  {
   "cell_type": "code",
   "execution_count": 31,
   "metadata": {},
   "outputs": [
    {
     "data": {
      "text/plain": [
       "'camel'"
      ]
     },
     "execution_count": 31,
     "metadata": {},
     "output_type": "execute_result"
    }
   ],
   "source": [
    "word_vectors.doesnt_match(\"cow sheep goat camel\".split())"
   ]
  },
  {
   "cell_type": "code",
   "execution_count": 32,
   "metadata": {},
   "outputs": [
    {
     "data": {
      "text/plain": [
       "'braves'"
      ]
     },
     "execution_count": 32,
     "metadata": {},
     "output_type": "execute_result"
    }
   ],
   "source": [
    "word_vectors.doesnt_match(\"bears eagles giants braves\".split())"
   ]
  },
  {
   "cell_type": "code",
   "execution_count": 35,
   "metadata": {},
   "outputs": [
    {
     "data": {
      "text/plain": [
       "'sushi'"
      ]
     },
     "execution_count": 35,
     "metadata": {},
     "output_type": "execute_result"
    }
   ],
   "source": [
    "word_vectors.doesnt_match(\"fries pizza taco sushi\".split())"
   ]
  },
  {
   "cell_type": "markdown",
   "metadata": {},
   "source": [
    "**Back to the slides**"
   ]
  },
  {
   "cell_type": "markdown",
   "metadata": {},
   "source": [
    "## Adding and subtracting"
   ]
  },
  {
   "cell_type": "code",
   "execution_count": 36,
   "metadata": {},
   "outputs": [
    {
     "data": {
      "text/plain": [
       "[('queen', 0.7118193507194519), ('monarch', 0.6189674139022827)]"
      ]
     },
     "execution_count": 36,
     "metadata": {},
     "output_type": "execute_result"
    }
   ],
   "source": [
    "word_vectors.most_similar(positive=['king', 'woman'], negative=['man'], topn=2)"
   ]
  },
  {
   "cell_type": "code",
   "execution_count": 37,
   "metadata": {},
   "outputs": [
    {
     "data": {
      "text/plain": [
       "[('pizzas', 0.624053418636322),\n",
       " ('Pizza', 0.5243308544158936),\n",
       " ('mozzarella_cheese', 0.5103603005409241)]"
      ]
     },
     "execution_count": 37,
     "metadata": {},
     "output_type": "execute_result"
    }
   ],
   "source": [
    "word_vectors.most_similar(positive=['pizza', 'mozzarella'], negative=['pineapple'], topn=3)"
   ]
  },
  {
   "cell_type": "code",
   "execution_count": 38,
   "metadata": {},
   "outputs": [
    {
     "data": {
      "text/plain": [
       "[('camorra', 0.5486218929290771),\n",
       " ('Ndrangheta_mafia', 0.5391587615013123),\n",
       " ('Calabrian_Mafia', 0.5161239504814148)]"
      ]
     },
     "execution_count": 38,
     "metadata": {},
     "output_type": "execute_result"
    }
   ],
   "source": [
    "word_vectors.most_similar(positive=['italy', 'mafia'], negative=['york'], topn=3)"
   ]
  },
  {
   "cell_type": "code",
   "execution_count": 39,
   "metadata": {
    "scrolled": true
   },
   "outputs": [
    {
     "data": {
      "text/plain": [
       "[('white', 0.8092213869094849),\n",
       " ('Responded_Letterman_How', 0.6182776689529419),\n",
       " ('blacks', 0.589222252368927),\n",
       " ('crypt_inscribed', 0.5855618119239807),\n",
       " ('transporting_petrochemicals', 0.5834174752235413),\n",
       " ('brown', 0.5766680240631104),\n",
       " ('Shilah_Phillips', 0.5763780474662781),\n",
       " ('women_dating_interracially', 0.5670552253723145),\n",
       " ('wrote_Newitz', 0.5604413747787476),\n",
       " ('blue', 0.5492398142814636)]"
      ]
     },
     "execution_count": 39,
     "metadata": {},
     "output_type": "execute_result"
    }
   ],
   "source": [
    "word_vectors.most_similar(positive=['black'], topn=10)"
   ]
  },
  {
   "cell_type": "code",
   "execution_count": null,
   "metadata": {},
   "outputs": [],
   "source": [
    "# Some other interesting example?\n",
    "word_vectors.most_similar(positive=None, negative=None, topn=2)"
   ]
  },
  {
   "cell_type": "markdown",
   "metadata": {},
   "source": [
    "**back to the slides**"
   ]
  },
  {
   "cell_type": "markdown",
   "metadata": {},
   "source": [
    "## Similarity between two words"
   ]
  },
  {
   "cell_type": "code",
   "execution_count": 40,
   "metadata": {},
   "outputs": [
    {
     "data": {
      "text/plain": [
       "0.7070532"
      ]
     },
     "execution_count": 40,
     "metadata": {},
     "output_type": "execute_result"
    }
   ],
   "source": [
    "word_vectors.similarity('princess', 'queen')"
   ]
  },
  {
   "cell_type": "code",
   "execution_count": 41,
   "metadata": {},
   "outputs": [
    {
     "data": {
      "text/plain": [
       "0.31469014"
      ]
     },
     "execution_count": 41,
     "metadata": {},
     "output_type": "execute_result"
    }
   ],
   "source": [
    "word_vectors.similarity('prince', 'frog')"
   ]
  },
  {
   "cell_type": "code",
   "execution_count": 42,
   "metadata": {},
   "outputs": [
    {
     "data": {
      "text/plain": [
       "0.4181738"
      ]
     },
     "execution_count": 42,
     "metadata": {},
     "output_type": "execute_result"
    }
   ],
   "source": [
    "word_vectors.similarity('god', 'monster')"
   ]
  },
  {
   "cell_type": "code",
   "execution_count": 43,
   "metadata": {},
   "outputs": [
    {
     "data": {
      "text/plain": [
       "0.2732389"
      ]
     },
     "execution_count": 43,
     "metadata": {},
     "output_type": "execute_result"
    }
   ],
   "source": [
    "word_vectors.similarity('gaze', 'watch')"
   ]
  },
  {
   "cell_type": "code",
   "execution_count": 44,
   "metadata": {},
   "outputs": [
    {
     "data": {
      "text/plain": [
       "0.7049819"
      ]
     },
     "execution_count": 44,
     "metadata": {},
     "output_type": "execute_result"
    }
   ],
   "source": [
    "word_vectors.similarity('frog', 'toad')"
   ]
  },
  {
   "cell_type": "code",
   "execution_count": 45,
   "metadata": {},
   "outputs": [
    {
     "data": {
      "text/plain": [
       "0.21391372"
      ]
     },
     "execution_count": 45,
     "metadata": {},
     "output_type": "execute_result"
    }
   ],
   "source": [
    "word_vectors.similarity('headache', 'flu')"
   ]
  },
  {
   "cell_type": "code",
   "execution_count": 46,
   "metadata": {},
   "outputs": [
    {
     "data": {
      "text/plain": [
       "0.57236975"
      ]
     },
     "execution_count": 46,
     "metadata": {},
     "output_type": "execute_result"
    }
   ],
   "source": [
    "word_vectors.similarity('Aztec', 'Mayan')"
   ]
  },
  {
   "cell_type": "code",
   "execution_count": 47,
   "metadata": {},
   "outputs": [
    {
     "data": {
      "text/plain": [
       "0.55075914"
      ]
     },
     "execution_count": 47,
     "metadata": {},
     "output_type": "execute_result"
    }
   ],
   "source": [
    "word_vectors.similarity('Rome', 'Athens')"
   ]
  },
  {
   "cell_type": "code",
   "execution_count": 48,
   "metadata": {},
   "outputs": [
    {
     "data": {
      "text/plain": [
       "0.5838368"
      ]
     },
     "execution_count": 48,
     "metadata": {},
     "output_type": "execute_result"
    }
   ],
   "source": [
    "word_vectors.similarity('automobile', 'car')"
   ]
  },
  {
   "cell_type": "code",
   "execution_count": 49,
   "metadata": {},
   "outputs": [
    {
     "data": {
      "text/plain": [
       "0.588517"
      ]
     },
     "execution_count": 49,
     "metadata": {},
     "output_type": "execute_result"
    }
   ],
   "source": [
    "word_vectors.similarity('rail', 'train')"
   ]
  },
  {
   "cell_type": "code",
   "execution_count": 50,
   "metadata": {},
   "outputs": [
    {
     "data": {
      "text/plain": [
       "0.6560988"
      ]
     },
     "execution_count": 50,
     "metadata": {},
     "output_type": "execute_result"
    }
   ],
   "source": [
    "word_vectors.similarity('ragu', 'pesto')"
   ]
  },
  {
   "cell_type": "code",
   "execution_count": 51,
   "metadata": {
    "scrolled": true
   },
   "outputs": [
    {
     "data": {
      "text/plain": [
       "0.41493478"
      ]
     },
     "execution_count": 51,
     "metadata": {},
     "output_type": "execute_result"
    }
   ],
   "source": [
    "word_vectors.similarity('Toscana', 'Lombardia')"
   ]
  },
  {
   "cell_type": "code",
   "execution_count": 52,
   "metadata": {},
   "outputs": [
    {
     "data": {
      "text/plain": [
       "0.30580756"
      ]
     },
     "execution_count": 52,
     "metadata": {},
     "output_type": "execute_result"
    }
   ],
   "source": [
    "word_vectors.similarity('Toscana', 'Lazio')"
   ]
  },
  {
   "cell_type": "code",
   "execution_count": 53,
   "metadata": {},
   "outputs": [
    {
     "data": {
      "text/plain": [
       "0.5879696"
      ]
     },
     "execution_count": 53,
     "metadata": {},
     "output_type": "execute_result"
    }
   ],
   "source": [
    "word_vectors.similarity('pizza', 'taco')"
   ]
  },
  {
   "cell_type": "code",
   "execution_count": 54,
   "metadata": {},
   "outputs": [
    {
     "data": {
      "text/plain": [
       "0.3507547"
      ]
     },
     "execution_count": 54,
     "metadata": {},
     "output_type": "execute_result"
    }
   ],
   "source": [
    "word_vectors.similarity('piadina', 'taco')"
   ]
  },
  {
   "cell_type": "code",
   "execution_count": null,
   "metadata": {},
   "outputs": [],
   "source": [
    "# Some other interesting example?\n",
    "word_vectors.similarity(None, None)"
   ]
  },
  {
   "cell_type": "markdown",
   "metadata": {},
   "source": [
    "**back to the slides**"
   ]
  },
  {
   "cell_type": "markdown",
   "metadata": {},
   "source": [
    "## Accessing the actual vectors"
   ]
  },
  {
   "cell_type": "code",
   "execution_count": 55,
   "metadata": {},
   "outputs": [
    {
     "data": {
      "text/plain": [
       "array([-0.01446533, -0.12792969, -0.11572266, -0.22167969, -0.07373047,\n",
       "       -0.05981445, -0.10009766, -0.06884766,  0.14941406,  0.10107422,\n",
       "       -0.03076172, -0.03271484, -0.03125   , -0.10791016,  0.12158203,\n",
       "        0.16015625,  0.19335938,  0.0065918 , -0.15429688,  0.03710938,\n",
       "        0.22753906,  0.1953125 ,  0.08300781,  0.03686523, -0.02148438,\n",
       "        0.01483154, -0.21289062,  0.16015625,  0.29101562, -0.03149414,\n",
       "       -0.05883789,  0.04418945, -0.11767578, -0.12597656,  0.08447266,\n",
       "       -0.10791016, -0.11279297,  0.17871094,  0.04467773,  0.17675781,\n",
       "       -0.17089844, -0.02160645, -0.00061417, -0.17480469, -0.04760742,\n",
       "        0.06835938, -0.0546875 ,  0.04467773, -0.19628906, -0.18554688,\n",
       "       -0.10839844, -0.06030273,  0.11474609,  0.08544922,  0.05859375,\n",
       "        0.23925781, -0.07080078,  0.11816406, -0.11132812,  0.08300781,\n",
       "       -0.04394531,  0.00970459, -0.1484375 ,  0.265625  , -0.13769531,\n",
       "        0.23535156, -0.19824219,  0.31445312,  0.02734375,  0.16894531,\n",
       "        0.20898438, -0.0480957 ,  0.16015625, -0.00147247, -0.13085938,\n",
       "       -0.01312256,  0.07763672,  0.22851562,  0.13867188, -0.2578125 ,\n",
       "        0.06176758,  0.03955078,  0.13867188,  0.08154297,  0.00210571,\n",
       "       -0.05297852,  0.03222656,  0.02148438, -0.21582031,  0.30664062,\n",
       "       -0.05761719,  0.02722168, -0.28320312, -0.4140625 ,  0.01745605,\n",
       "        0.04101562,  0.00352478,  0.11279297,  0.046875  , -0.09960938,\n",
       "       -0.18945312, -0.24707031,  0.10058594,  0.35546875,  0.15625   ,\n",
       "        0.02319336,  0.125     , -0.12402344,  0.13378906,  0.17578125,\n",
       "        0.06494141, -0.10644531,  0.00714111, -0.40234375,  0.01989746,\n",
       "        0.11376953, -0.10644531, -0.19921875,  0.29492188,  0.15527344,\n",
       "       -0.13574219,  0.16601562, -0.18457031,  0.28125   ,  0.16992188,\n",
       "       -0.04345703, -0.203125  ,  0.02380371,  0.00268555,  0.125     ,\n",
       "       -0.14550781, -0.24121094, -0.125     , -0.12304688, -0.01251221,\n",
       "       -0.203125  ,  0.11132812,  0.04858398, -0.02246094, -0.19238281,\n",
       "        0.00221252, -0.13378906, -0.11035156,  0.1796875 ,  0.14648438,\n",
       "        0.11914062, -0.05419922, -0.3046875 , -0.14257812, -0.0019455 ,\n",
       "        0.296875  ,  0.34179688, -0.06396484, -0.00958252,  0.15527344,\n",
       "       -0.06494141, -0.12792969,  0.04736328,  0.00686646,  0.07910156,\n",
       "       -0.31445312,  0.15039062, -0.00558472, -0.00854492, -0.19726562,\n",
       "        0.0456543 , -0.0859375 , -0.3125    , -0.04931641, -0.17480469,\n",
       "        0.23632812,  0.0189209 , -0.01470947, -0.23632812, -0.48828125,\n",
       "       -0.09667969,  0.26953125,  0.2265625 , -0.33007812,  0.01855469,\n",
       "       -0.15332031, -0.13769531, -0.24316406,  0.12109375,  0.43945312,\n",
       "        0.05078125, -0.01574707,  0.14550781, -0.27148438,  0.05249023,\n",
       "       -0.12060547, -0.10742188, -0.22070312,  0.11132812,  0.00765991,\n",
       "        0.234375  , -0.2734375 ,  0.00512695, -0.01708984,  0.02258301,\n",
       "       -0.01031494,  0.19433594,  0.07226562,  0.02185059,  0.00915527,\n",
       "        0.15722656, -0.01733398, -0.01928711, -0.08837891,  0.01269531,\n",
       "        0.04125977, -0.05615234, -0.08105469, -0.40625   ,  0.04882812,\n",
       "        0.15136719, -0.06030273, -0.10791016, -0.3125    ,  0.00247192,\n",
       "        0.08007812,  0.203125  , -0.08789062,  0.06640625,  0.03417969,\n",
       "        0.20898438, -0.29101562,  0.20703125, -0.23730469, -0.05517578,\n",
       "        0.05737305, -0.13769531, -0.34960938, -0.20214844,  0.13671875,\n",
       "       -0.28710938,  0.00592041, -0.21289062, -0.25585938,  0.01397705,\n",
       "        0.3203125 , -0.01123047, -0.08544922, -0.16210938,  0.22558594,\n",
       "        0.05126953,  0.21386719, -0.00552368,  0.05932617, -0.06396484,\n",
       "       -0.04003906,  0.21191406,  0.12255859, -0.02954102,  0.18554688,\n",
       "        0.07421875,  0.20605469, -0.40429688, -0.05761719, -0.09521484,\n",
       "       -0.00830078, -0.14257812, -0.22265625, -0.22363281, -0.16601562,\n",
       "        0.29492188, -0.01190186, -0.11132812, -0.08642578, -0.19140625,\n",
       "        0.01818848,  0.17675781,  0.04077148, -0.2734375 , -0.00708008,\n",
       "       -0.09472656,  0.32421875,  0.05322266,  0.046875  ,  0.11376953,\n",
       "        0.15722656,  0.06201172,  0.07275391, -0.09179688, -0.09521484,\n",
       "       -0.10839844,  0.07470703,  0.10742188, -0.02856445,  0.16015625,\n",
       "       -0.07910156,  0.15722656, -0.06152344, -0.17480469,  0.08007812,\n",
       "       -0.13671875, -0.18359375, -0.05200195, -0.00585938, -0.15625   ],\n",
       "      dtype=float32)"
      ]
     },
     "execution_count": 55,
     "metadata": {},
     "output_type": "execute_result"
    }
   ],
   "source": [
    "word_vectors['phone']"
   ]
  },
  {
   "cell_type": "markdown",
   "metadata": {},
   "source": [
    "**back to the slides**"
   ]
  },
  {
   "cell_type": "markdown",
   "metadata": {},
   "source": [
    "# Training a word2vec model"
   ]
  },
  {
   "cell_type": "code",
   "execution_count": 64,
   "metadata": {},
   "outputs": [],
   "source": [
    "# Setup \n",
    "from gensim.models.word2vec import Word2Vec\n",
    "import nltk\n",
    "from nltk.corpus import brown\n",
    "\n",
    "num_features = 300   # The  cardinality of the embedding space\n",
    "min_word_count = 3   # Words appearing less times will be discarded (depends on the size of the corpus)\n",
    "num_workers = 2      # Number of CPU cores to be used (depends on hardware)\n",
    "window_size = 6      # Size of the context\n",
    "subsampling = 1e-3   # Threshold for configuring which higher-frequency words are randomly downsampled"
   ]
  },
  {
   "cell_type": "code",
   "execution_count": 67,
   "metadata": {},
   "outputs": [
    {
     "name": "stderr",
     "output_type": "stream",
     "text": [
      "[nltk_data] Downloading package brown to /home/albarron/nltk_data...\n",
      "[nltk_data]   Package brown is already up-to-date!\n"
     ]
    },
    {
     "data": {
      "text/plain": [
       "57340"
      ]
     },
     "execution_count": 67,
     "metadata": {},
     "output_type": "execute_result"
    }
   ],
   "source": [
    "# Loading some data\n",
    "nltk.download('brown')\n",
    "sentence_list = brown.sents()\n",
    "len(token_list)"
   ]
  },
  {
   "cell_type": "code",
   "execution_count": 68,
   "metadata": {},
   "outputs": [
    {
     "data": {
      "text/plain": [
       "[['The', 'Fulton', 'County', 'Grand', 'Jury', 'said', 'Friday', 'an', 'investigation', 'of', \"Atlanta's\", 'recent', 'primary', 'election', 'produced', '``', 'no', 'evidence', \"''\", 'that', 'any', 'irregularities', 'took', 'place', '.'], ['The', 'jury', 'further', 'said', 'in', 'term-end', 'presentments', 'that', 'the', 'City', 'Executive', 'Committee', ',', 'which', 'had', 'over-all', 'charge', 'of', 'the', 'election', ',', '``', 'deserves', 'the', 'praise', 'and', 'thanks', 'of', 'the', 'City', 'of', 'Atlanta', \"''\", 'for', 'the', 'manner', 'in', 'which', 'the', 'election', 'was', 'conducted', '.'], ...]"
      ]
     },
     "execution_count": 68,
     "metadata": {},
     "output_type": "execute_result"
    }
   ],
   "source": [
    "sentence_list"
   ]
  },
  {
   "cell_type": "code",
   "execution_count": 72,
   "metadata": {},
   "outputs": [],
   "source": [
    "# Model initialisation \n",
    "# I RAN THIS EARLIER. I wont do it now, as it takes some time \n",
    "model = Word2Vec(\n",
    "    sentence_list,\n",
    "    workers=num_workers,\n",
    "    vector_size=num_features,   # Notice that this parameter used to be size\n",
    "    #min_count=min_word_count,\n",
    "    window=window_size,\n",
    "    sample=subsampling)"
   ]
  },
  {
   "cell_type": "code",
   "execution_count": 71,
   "metadata": {},
   "outputs": [
    {
     "name": "stdout",
     "output_type": "stream",
     "text": [
      "2022-10-31 16:49:44,213 WARNING:gensim.models.keyedvectors:1554:           init_sims destructive init_sims(replace=True) deprecated & no longer required for space-efficiency\n"
     ]
    },
    {
     "name": "stderr",
     "output_type": "stream",
     "text": [
      "/tmp/ipykernel_62855/3929927395.py:2: DeprecationWarning: Call to deprecated `init_sims` (Gensim 4.0.0 implemented internal optimizations that make calls to init_sims() unnecessary. init_sims() is now obsoleted and will be completely removed in future versions. See https://github.com/RaRe-Technologies/gensim/wiki/Migrating-from-Gensim-3.x-to-4).\n",
      "  model.init_sims(replace=True)\n"
     ]
    }
   ],
   "source": [
    "# Discarding the unneeded output weights and freezing the rest\n",
    "# This is not necessary since gensim 4: https://github.com/RaRe-Technologies/gensim/wiki/Migrating-from-Gensim-3.x-to-4\n",
    "# model.init_sims(replace=True)"
   ]
  },
  {
   "cell_type": "code",
   "execution_count": 73,
   "metadata": {},
   "outputs": [],
   "source": [
    "# Saving the model \n",
    "model_name = \"my_domain_specific_word2vec_model\"\n",
    "model.save(model_name)"
   ]
  },
  {
   "cell_type": "code",
   "execution_count": 74,
   "metadata": {},
   "outputs": [
    {
     "data": {
      "text/plain": [
       "[('jacket', 0.9722703099250793),\n",
       " ('thick', 0.9707545042037964),\n",
       " ('green', 0.9691036939620972),\n",
       " ('stretched', 0.9638636708259583),\n",
       " ('pale', 0.962711751461029),\n",
       " ('heavy', 0.9622294902801514),\n",
       " ('tall', 0.9598557949066162),\n",
       " ('yellow', 0.9594091773033142),\n",
       " ('beard', 0.957897424697876),\n",
       " ('flat', 0.9576342105865479)]"
      ]
     },
     "execution_count": 74,
     "metadata": {},
     "output_type": "execute_result"
    }
   ],
   "source": [
    "# Loading a model\n",
    "\n",
    "model = Word2Vec.load(model_name)\n",
    "model.wv.most_similar('brown')\n",
    "# Notice that model.most_similar('brown') will be deprecated soon"
   ]
  },
  {
   "cell_type": "markdown",
   "metadata": {},
   "source": [
    "**back to the slides**"
   ]
  },
  {
   "cell_type": "markdown",
   "metadata": {},
   "source": [
    "## fastText"
   ]
  },
  {
   "cell_type": "code",
   "execution_count": null,
   "metadata": {},
   "outputs": [],
   "source": [
    "import gensim.models.fasttext as fastext\n",
    "MODEL_PATH = \"~/corpora/embeddings/FastText/cc.it.300.bin.gz\"\n",
    "# ft_model = FastText.load_fasttext_format(model_file=MODEL_PATH)\n",
    "ft_model = fastext.load_facebook_vectors(MODEL_PATH)\n"
   ]
  },
  {
   "cell_type": "code",
   "execution_count": null,
   "metadata": {},
   "outputs": [],
   "source": [
    "ft_model.most_similar('calcio')"
   ]
  },
  {
   "cell_type": "code",
   "execution_count": null,
   "metadata": {},
   "outputs": [],
   "source": [
    "ft_model.most_similar('football')"
   ]
  },
  {
   "cell_type": "code",
   "execution_count": null,
   "metadata": {},
   "outputs": [],
   "source": [
    "from gensim.models import fasttext\n",
    "MODEL_PATH = \"/Users/albarron/corpora/embeddings/FastText/it/cc.it.300.bin.gz\"\n",
    "# MODEL_PATH = \"~/corpora/embeddings/FastText/cc.it.300.bin.gz\"\n",
    "ft_model = fasttext.load_facebook_vectors(MODEL_PATH)\n",
    "# ft_model.most_similar('calcio')\n"
   ]
  },
  {
   "cell_type": "code",
   "execution_count": null,
   "metadata": {},
   "outputs": [],
   "source": [
    "ft_model.most_similar('calcio')"
   ]
  },
  {
   "cell_type": "code",
   "execution_count": null,
   "metadata": {},
   "outputs": [],
   "source": []
  }
 ],
 "metadata": {
  "kernelspec": {
   "display_name": "Python 3 (ipykernel)",
   "language": "python",
   "name": "python3"
  },
  "language_info": {
   "codemirror_mode": {
    "name": "ipython",
    "version": 3
   },
   "file_extension": ".py",
   "mimetype": "text/x-python",
   "name": "python",
   "nbconvert_exporter": "python",
   "pygments_lexer": "ipython3",
   "version": "3.8.10"
  }
 },
 "nbformat": 4,
 "nbformat_minor": 4
}
