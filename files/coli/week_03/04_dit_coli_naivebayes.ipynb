{
 "cells": [
  {
   "cell_type": "markdown",
   "metadata": {},
   "source": [
    "# Introducing the Naive Bayes Classifier\n",
    "\n",
    "Now we will use annotated data to \"learn\" a sentiment classifier"
   ]
  },
  {
   "cell_type": "code",
   "execution_count": 25,
   "metadata": {
    "collapsed": true
   },
   "outputs": [
    {
     "name": "stdout",
     "output_type": "stream",
     "text": [
      "Requirement already satisfied: nlpia in /usr/local/lib/python3.8/site-packages (0.5.2)\n",
      "Requirement already satisfied: h5py in /usr/local/lib/python3.8/site-packages (from nlpia) (2.10.0)\n",
      "Requirement already satisfied: spacy in /usr/local/lib/python3.8/site-packages (from nlpia) (3.0.3)\n",
      "Requirement already satisfied: regex in /usr/local/lib/python3.8/site-packages (from nlpia) (2020.11.13)\n",
      "Requirement already satisfied: jupyter in /usr/local/lib/python3.8/site-packages (from nlpia) (1.0.0)\n",
      "Requirement already satisfied: scikit-learn in /usr/local/lib/python3.8/site-packages (from nlpia) (0.24.1)\n",
      "Requirement already satisfied: lxml in /usr/local/lib/python3.8/site-packages (from nlpia) (4.6.2)\n",
      "Requirement already satisfied: plotly in /usr/local/lib/python3.8/site-packages (from nlpia) (4.14.3)\n",
      "Requirement already satisfied: matplotlib in /usr/local/lib/python3.8/site-packages (from nlpia) (3.3.4)\n",
      "Requirement already satisfied: pypandoc in /usr/local/lib/python3.8/site-packages (from nlpia) (1.5)\n",
      "Requirement already satisfied: tensorflow in /usr/local/lib/python3.8/site-packages (from nlpia) (2.4.1)\n",
      "Requirement already satisfied: nltk in /usr/local/lib/python3.8/site-packages (from nlpia) (3.5)\n",
      "Requirement already satisfied: html2text in /usr/local/lib/python3.8/site-packages (from nlpia) (2020.1.16)\n",
      "Requirement already satisfied: html5lib in /usr/local/lib/python3.8/site-packages (from nlpia) (1.1)\n",
      "Requirement already satisfied: pandas-datareader in /usr/local/lib/python3.8/site-packages (from nlpia) (0.9.0)\n",
      "Requirement already satisfied: keras in /usr/local/lib/python3.8/site-packages (from nlpia) (2.4.3)\n",
      "Requirement already satisfied: pandas in /usr/local/lib/python3.8/site-packages (from nlpia) (1.2.2)\n",
      "Requirement already satisfied: seaborn in /usr/local/lib/python3.8/site-packages (from nlpia) (0.11.1)\n",
      "Requirement already satisfied: pugnlp in /usr/local/lib/python3.8/site-packages (from nlpia) (0.2.6)\n",
      "Requirement already satisfied: future in /usr/local/lib/python3.8/site-packages (from nlpia) (0.18.2)\n",
      "Requirement already satisfied: tqdm in /usr/local/lib/python3.8/site-packages (from nlpia) (4.58.0)\n",
      "Requirement already satisfied: python-Levenshtein in /usr/local/lib/python3.8/site-packages (from nlpia) (0.12.2)\n",
      "Requirement already satisfied: gensim in /usr/local/lib/python3.8/site-packages (from nlpia) (3.8.3)\n",
      "Requirement already satisfied: scipy>=0.18.1 in /usr/local/lib/python3.8/site-packages (from gensim->nlpia) (1.6.1)\n",
      "Requirement already satisfied: six>=1.5.0 in /usr/local/lib/python3.8/site-packages (from gensim->nlpia) (1.15.0)\n",
      "Requirement already satisfied: smart-open>=1.8.1 in /usr/local/lib/python3.8/site-packages (from gensim->nlpia) (3.0.0)\n",
      "Requirement already satisfied: numpy>=1.11.3 in /usr/local/lib/python3.8/site-packages (from gensim->nlpia) (1.19.5)\n",
      "Requirement already satisfied: requests in /usr/local/lib/python3.8/site-packages (from smart-open>=1.8.1->gensim->nlpia) (2.25.1)\n",
      "Requirement already satisfied: webencodings in /usr/local/lib/python3.8/site-packages (from html5lib->nlpia) (0.5.1)\n",
      "Requirement already satisfied: notebook in /usr/local/lib/python3.8/site-packages (from jupyter->nlpia) (6.2.0)\n",
      "Requirement already satisfied: ipywidgets in /usr/local/lib/python3.8/site-packages (from jupyter->nlpia) (7.6.3)\n",
      "Requirement already satisfied: qtconsole in /usr/local/lib/python3.8/site-packages (from jupyter->nlpia) (5.0.2)\n",
      "Requirement already satisfied: jupyter-console in /usr/local/lib/python3.8/site-packages (from jupyter->nlpia) (6.2.0)\n",
      "Requirement already satisfied: ipykernel in /usr/local/lib/python3.8/site-packages (from jupyter->nlpia) (5.5.0)\n",
      "Requirement already satisfied: nbconvert in /usr/local/lib/python3.8/site-packages (from jupyter->nlpia) (6.0.7)\n",
      "Requirement already satisfied: ipython>=5.0.0 in /usr/local/lib/python3.8/site-packages (from ipykernel->jupyter->nlpia) (7.21.0)\n",
      "Requirement already satisfied: tornado>=4.2 in /usr/local/lib/python3.8/site-packages (from ipykernel->jupyter->nlpia) (6.1)\n",
      "Requirement already satisfied: jupyter-client in /usr/local/lib/python3.8/site-packages (from ipykernel->jupyter->nlpia) (6.1.11)\n",
      "Requirement already satisfied: traitlets>=4.1.0 in /usr/local/lib/python3.8/site-packages (from ipykernel->jupyter->nlpia) (5.0.5)\n",
      "Requirement already satisfied: appnope in /usr/local/lib/python3.8/site-packages (from ipykernel->jupyter->nlpia) (0.1.2)\n",
      "Requirement already satisfied: setuptools>=18.5 in /usr/local/lib/python3.8/site-packages (from ipython>=5.0.0->ipykernel->jupyter->nlpia) (53.0.0)\n",
      "Requirement already satisfied: decorator in /usr/local/lib/python3.8/site-packages (from ipython>=5.0.0->ipykernel->jupyter->nlpia) (4.4.2)\n",
      "Requirement already satisfied: backcall in /usr/local/lib/python3.8/site-packages (from ipython>=5.0.0->ipykernel->jupyter->nlpia) (0.2.0)\n",
      "Requirement already satisfied: pexpect>4.3 in /usr/local/lib/python3.8/site-packages (from ipython>=5.0.0->ipykernel->jupyter->nlpia) (4.8.0)\n",
      "Requirement already satisfied: jedi>=0.16 in /usr/local/lib/python3.8/site-packages (from ipython>=5.0.0->ipykernel->jupyter->nlpia) (0.18.0)\n",
      "Requirement already satisfied: pygments in /usr/local/lib/python3.8/site-packages (from ipython>=5.0.0->ipykernel->jupyter->nlpia) (2.8.0)\n",
      "Requirement already satisfied: prompt-toolkit!=3.0.0,!=3.0.1,<3.1.0,>=2.0.0 in /usr/local/lib/python3.8/site-packages (from ipython>=5.0.0->ipykernel->jupyter->nlpia) (3.0.16)\n",
      "Requirement already satisfied: pickleshare in /usr/local/lib/python3.8/site-packages (from ipython>=5.0.0->ipykernel->jupyter->nlpia) (0.7.5)\n",
      "Requirement already satisfied: parso<0.9.0,>=0.8.0 in /usr/local/lib/python3.8/site-packages (from jedi>=0.16->ipython>=5.0.0->ipykernel->jupyter->nlpia) (0.8.1)\n",
      "Requirement already satisfied: ptyprocess>=0.5 in /usr/local/lib/python3.8/site-packages (from pexpect>4.3->ipython>=5.0.0->ipykernel->jupyter->nlpia) (0.7.0)\n",
      "Requirement already satisfied: wcwidth in /usr/local/lib/python3.8/site-packages (from prompt-toolkit!=3.0.0,!=3.0.1,<3.1.0,>=2.0.0->ipython>=5.0.0->ipykernel->jupyter->nlpia) (0.2.5)\n",
      "Requirement already satisfied: ipython-genutils in /usr/local/lib/python3.8/site-packages (from traitlets>=4.1.0->ipykernel->jupyter->nlpia) (0.2.0)\n",
      "Requirement already satisfied: jupyterlab-widgets>=1.0.0 in /usr/local/lib/python3.8/site-packages (from ipywidgets->jupyter->nlpia) (1.0.0)\n",
      "Requirement already satisfied: widgetsnbextension~=3.5.0 in /usr/local/lib/python3.8/site-packages (from ipywidgets->jupyter->nlpia) (3.5.1)\n",
      "Requirement already satisfied: nbformat>=4.2.0 in /usr/local/lib/python3.8/site-packages (from ipywidgets->jupyter->nlpia) (5.1.2)\n",
      "Requirement already satisfied: jsonschema!=2.5.0,>=2.4 in /usr/local/lib/python3.8/site-packages (from nbformat>=4.2.0->ipywidgets->jupyter->nlpia) (3.2.0)\n",
      "Requirement already satisfied: jupyter-core in /usr/local/lib/python3.8/site-packages (from nbformat>=4.2.0->ipywidgets->jupyter->nlpia) (4.7.1)\n",
      "Requirement already satisfied: pyrsistent>=0.14.0 in /usr/local/lib/python3.8/site-packages (from jsonschema!=2.5.0,>=2.4->nbformat>=4.2.0->ipywidgets->jupyter->nlpia) (0.17.3)\n",
      "Requirement already satisfied: attrs>=17.4.0 in /usr/local/lib/python3.8/site-packages (from jsonschema!=2.5.0,>=2.4->nbformat>=4.2.0->ipywidgets->jupyter->nlpia) (20.3.0)\n",
      "Requirement already satisfied: argon2-cffi in /usr/local/lib/python3.8/site-packages (from notebook->jupyter->nlpia) (20.1.0)\n",
      "Requirement already satisfied: jinja2 in /usr/local/lib/python3.8/site-packages (from notebook->jupyter->nlpia) (2.11.3)\n",
      "Requirement already satisfied: Send2Trash>=1.5.0 in /usr/local/lib/python3.8/site-packages (from notebook->jupyter->nlpia) (1.5.0)\n",
      "Requirement already satisfied: prometheus-client in /usr/local/lib/python3.8/site-packages (from notebook->jupyter->nlpia) (0.9.0)\n",
      "Requirement already satisfied: terminado>=0.8.3 in /usr/local/lib/python3.8/site-packages (from notebook->jupyter->nlpia) (0.9.2)\n",
      "Requirement already satisfied: pyzmq>=17 in /usr/local/lib/python3.8/site-packages (from notebook->jupyter->nlpia) (22.0.3)\n",
      "Requirement already satisfied: python-dateutil>=2.1 in /usr/local/lib/python3.8/site-packages (from jupyter-client->ipykernel->jupyter->nlpia) (2.8.1)\n",
      "Requirement already satisfied: cffi>=1.0.0 in /usr/local/lib/python3.8/site-packages (from argon2-cffi->notebook->jupyter->nlpia) (1.14.5)\n",
      "Requirement already satisfied: pycparser in /usr/local/lib/python3.8/site-packages (from cffi>=1.0.0->argon2-cffi->notebook->jupyter->nlpia) (2.20)\n",
      "Requirement already satisfied: MarkupSafe>=0.23 in /usr/local/lib/python3.8/site-packages (from jinja2->notebook->jupyter->nlpia) (1.1.1)\n"
     ]
    },
    {
     "name": "stdout",
     "output_type": "stream",
     "text": [
      "Requirement already satisfied: pyyaml in /usr/local/lib/python3.8/site-packages (from keras->nlpia) (5.4.1)\n",
      "Requirement already satisfied: cycler>=0.10 in /usr/local/lib/python3.8/site-packages (from matplotlib->nlpia) (0.10.0)\n",
      "Requirement already satisfied: pillow>=6.2.0 in /usr/local/lib/python3.8/site-packages (from matplotlib->nlpia) (7.1.2)\n",
      "Requirement already satisfied: pyparsing!=2.0.4,!=2.1.2,!=2.1.6,>=2.0.3 in /usr/local/lib/python3.8/site-packages (from matplotlib->nlpia) (2.4.7)\n",
      "Requirement already satisfied: kiwisolver>=1.0.1 in /usr/local/lib/python3.8/site-packages (from matplotlib->nlpia) (1.3.1)\n",
      "Requirement already satisfied: testpath in /usr/local/lib/python3.8/site-packages (from nbconvert->jupyter->nlpia) (0.4.4)\n",
      "Requirement already satisfied: bleach in /usr/local/lib/python3.8/site-packages (from nbconvert->jupyter->nlpia) (3.3.0)\n",
      "Requirement already satisfied: nbclient<0.6.0,>=0.5.0 in /usr/local/lib/python3.8/site-packages (from nbconvert->jupyter->nlpia) (0.5.3)\n",
      "Requirement already satisfied: defusedxml in /usr/local/lib/python3.8/site-packages (from nbconvert->jupyter->nlpia) (0.6.0)\n",
      "Requirement already satisfied: jupyterlab-pygments in /usr/local/lib/python3.8/site-packages (from nbconvert->jupyter->nlpia) (0.1.2)\n",
      "Requirement already satisfied: entrypoints>=0.2.2 in /usr/local/lib/python3.8/site-packages (from nbconvert->jupyter->nlpia) (0.3)\n",
      "Requirement already satisfied: pandocfilters>=1.4.1 in /usr/local/lib/python3.8/site-packages (from nbconvert->jupyter->nlpia) (1.4.3)\n",
      "Requirement already satisfied: mistune<2,>=0.8.1 in /usr/local/lib/python3.8/site-packages (from nbconvert->jupyter->nlpia) (0.8.4)\n",
      "Requirement already satisfied: async-generator in /usr/local/lib/python3.8/site-packages (from nbclient<0.6.0,>=0.5.0->nbconvert->jupyter->nlpia) (1.10)\n",
      "Requirement already satisfied: nest-asyncio in /usr/local/lib/python3.8/site-packages (from nbclient<0.6.0,>=0.5.0->nbconvert->jupyter->nlpia) (1.5.1)\n",
      "Requirement already satisfied: packaging in /usr/local/lib/python3.8/site-packages (from bleach->nbconvert->jupyter->nlpia) (20.9)\n",
      "Requirement already satisfied: joblib in /usr/local/lib/python3.8/site-packages (from nltk->nlpia) (1.0.1)\n",
      "Requirement already satisfied: click in /usr/local/lib/python3.8/site-packages (from nltk->nlpia) (7.1.2)\n",
      "Requirement already satisfied: pytz>=2017.3 in /usr/local/lib/python3.8/site-packages (from pandas->nlpia) (2019.3)\n",
      "Requirement already satisfied: certifi>=2017.4.17 in /usr/local/lib/python3.8/site-packages (from requests->smart-open>=1.8.1->gensim->nlpia) (2020.12.5)\n",
      "Requirement already satisfied: idna<3,>=2.5 in /usr/local/lib/python3.8/site-packages (from requests->smart-open>=1.8.1->gensim->nlpia) (2.10)\n",
      "Requirement already satisfied: chardet<5,>=3.0.2 in /usr/local/lib/python3.8/site-packages (from requests->smart-open>=1.8.1->gensim->nlpia) (4.0.0)\n",
      "Requirement already satisfied: urllib3<1.27,>=1.21.1 in /usr/local/lib/python3.8/site-packages (from requests->smart-open>=1.8.1->gensim->nlpia) (1.26.3)\n",
      "Requirement already satisfied: retrying>=1.3.3 in /usr/local/lib/python3.8/site-packages (from plotly->nlpia) (1.3.3)\n",
      "Requirement already satisfied: wheel in /usr/local/lib/python3.8/site-packages (from pugnlp->nlpia) (0.36.2)\n",
      "Requirement already satisfied: fuzzywuzzy in /usr/local/lib/python3.8/site-packages (from pugnlp->nlpia) (0.18.0)\n",
      "Requirement already satisfied: coverage in /usr/local/lib/python3.8/site-packages (from pugnlp->nlpia) (5.5)\n",
      "Requirement already satisfied: python-slugify in /usr/local/lib/python3.8/site-packages (from pugnlp->nlpia) (4.0.1)\n",
      "Requirement already satisfied: pip in /usr/local/lib/python3.8/site-packages (from pugnlp->nlpia) (21.0.1)\n",
      "Requirement already satisfied: text-unidecode>=1.3 in /usr/local/lib/python3.8/site-packages (from python-slugify->pugnlp->nlpia) (1.3)\n",
      "Requirement already satisfied: qtpy in /usr/local/lib/python3.8/site-packages (from qtconsole->jupyter->nlpia) (1.9.0)\n",
      "Requirement already satisfied: threadpoolctl>=2.0.0 in /usr/local/lib/python3.8/site-packages (from scikit-learn->nlpia) (2.1.0)\n",
      "Requirement already satisfied: catalogue<2.1.0,>=2.0.1 in /usr/local/lib/python3.8/site-packages (from spacy->nlpia) (2.0.1)\n",
      "Requirement already satisfied: spacy-legacy<3.1.0,>=3.0.0 in /usr/local/lib/python3.8/site-packages (from spacy->nlpia) (3.0.1)\n",
      "Requirement already satisfied: pathy in /usr/local/lib/python3.8/site-packages (from spacy->nlpia) (0.4.0)\n",
      "Requirement already satisfied: wasabi<1.1.0,>=0.8.1 in /usr/local/lib/python3.8/site-packages (from spacy->nlpia) (0.8.2)\n",
      "Requirement already satisfied: blis<0.8.0,>=0.4.0 in /usr/local/lib/python3.8/site-packages (from spacy->nlpia) (0.7.4)\n",
      "Requirement already satisfied: murmurhash<1.1.0,>=0.28.0 in /usr/local/lib/python3.8/site-packages (from spacy->nlpia) (1.0.5)\n",
      "Requirement already satisfied: typer<0.4.0,>=0.3.0 in /usr/local/lib/python3.8/site-packages (from spacy->nlpia) (0.3.2)\n",
      "Requirement already satisfied: pydantic<1.8.0,>=1.7.1 in /usr/local/lib/python3.8/site-packages (from spacy->nlpia) (1.7.3)\n",
      "Requirement already satisfied: srsly<3.0.0,>=2.4.0 in /usr/local/lib/python3.8/site-packages (from spacy->nlpia) (2.4.0)\n",
      "Requirement already satisfied: preshed<3.1.0,>=3.0.2 in /usr/local/lib/python3.8/site-packages (from spacy->nlpia) (3.0.5)\n",
      "Requirement already satisfied: cymem<2.1.0,>=2.0.2 in /usr/local/lib/python3.8/site-packages (from spacy->nlpia) (2.0.5)\n",
      "Requirement already satisfied: thinc<8.1.0,>=8.0.0 in /usr/local/lib/python3.8/site-packages (from spacy->nlpia) (8.0.1)\n",
      "Requirement already satisfied: typing-extensions~=3.7.4 in /usr/local/lib/python3.8/site-packages (from tensorflow->nlpia) (3.7.4.3)\n",
      "Requirement already satisfied: grpcio~=1.32.0 in /usr/local/lib/python3.8/site-packages (from tensorflow->nlpia) (1.32.0)\n",
      "Requirement already satisfied: tensorboard~=2.4 in /usr/local/lib/python3.8/site-packages (from tensorflow->nlpia) (2.4.1)\n",
      "Requirement already satisfied: wrapt~=1.12.1 in /usr/local/lib/python3.8/site-packages (from tensorflow->nlpia) (1.12.1)\n",
      "Requirement already satisfied: gast==0.3.3 in /usr/local/lib/python3.8/site-packages (from tensorflow->nlpia) (0.3.3)\n",
      "Requirement already satisfied: protobuf>=3.9.2 in /usr/local/lib/python3.8/site-packages (from tensorflow->nlpia) (3.15.6)\n",
      "Requirement already satisfied: tensorflow-estimator<2.5.0,>=2.4.0 in /usr/local/lib/python3.8/site-packages (from tensorflow->nlpia) (2.4.0)\n",
      "Requirement already satisfied: absl-py~=0.10 in /usr/local/lib/python3.8/site-packages (from tensorflow->nlpia) (0.12.0)\n",
      "Requirement already satisfied: flatbuffers~=1.12.0 in /usr/local/lib/python3.8/site-packages (from tensorflow->nlpia) (1.12)\n",
      "Requirement already satisfied: opt-einsum~=3.3.0 in /usr/local/lib/python3.8/site-packages (from tensorflow->nlpia) (3.3.0)\n",
      "Requirement already satisfied: termcolor~=1.1.0 in /usr/local/lib/python3.8/site-packages (from tensorflow->nlpia) (1.1.0)\n",
      "Requirement already satisfied: keras-preprocessing~=1.1.2 in /usr/local/lib/python3.8/site-packages (from tensorflow->nlpia) (1.1.2)\n",
      "Requirement already satisfied: astunparse~=1.6.3 in /usr/local/lib/python3.8/site-packages (from tensorflow->nlpia) (1.6.3)\n",
      "Requirement already satisfied: google-pasta~=0.2 in /usr/local/lib/python3.8/site-packages (from tensorflow->nlpia) (0.2.0)\n",
      "Requirement already satisfied: tensorboard-plugin-wit>=1.6.0 in /usr/local/lib/python3.8/site-packages (from tensorboard~=2.4->tensorflow->nlpia) (1.8.0)\n",
      "Requirement already satisfied: markdown>=2.6.8 in /usr/local/lib/python3.8/site-packages (from tensorboard~=2.4->tensorflow->nlpia) (3.3.4)\n",
      "Requirement already satisfied: werkzeug>=0.11.15 in /usr/local/lib/python3.8/site-packages (from tensorboard~=2.4->tensorflow->nlpia) (1.0.1)\n",
      "Requirement already satisfied: google-auth-oauthlib<0.5,>=0.4.1 in /usr/local/lib/python3.8/site-packages (from tensorboard~=2.4->tensorflow->nlpia) (0.4.3)\n",
      "Requirement already satisfied: google-auth<2,>=1.6.3 in /usr/local/lib/python3.8/site-packages (from tensorboard~=2.4->tensorflow->nlpia) (1.27.1)\n",
      "Requirement already satisfied: pyasn1-modules>=0.2.1 in /usr/local/lib/python3.8/site-packages (from google-auth<2,>=1.6.3->tensorboard~=2.4->tensorflow->nlpia) (0.2.8)\n",
      "Requirement already satisfied: rsa<5,>=3.1.4 in /usr/local/lib/python3.8/site-packages (from google-auth<2,>=1.6.3->tensorboard~=2.4->tensorflow->nlpia) (4.7.2)\n",
      "Requirement already satisfied: cachetools<5.0,>=2.0.0 in /usr/local/lib/python3.8/site-packages (from google-auth<2,>=1.6.3->tensorboard~=2.4->tensorflow->nlpia) (4.2.1)\n",
      "Requirement already satisfied: requests-oauthlib>=0.7.0 in /usr/local/lib/python3.8/site-packages (from google-auth-oauthlib<0.5,>=0.4.1->tensorboard~=2.4->tensorflow->nlpia) (1.3.0)\n"
     ]
    },
    {
     "name": "stdout",
     "output_type": "stream",
     "text": [
      "Requirement already satisfied: pyasn1<0.5.0,>=0.4.6 in /usr/local/lib/python3.8/site-packages (from pyasn1-modules>=0.2.1->google-auth<2,>=1.6.3->tensorboard~=2.4->tensorflow->nlpia) (0.4.8)\r\n",
      "Requirement already satisfied: oauthlib>=3.0.0 in /usr/local/lib/python3.8/site-packages (from requests-oauthlib>=0.7.0->google-auth-oauthlib<0.5,>=0.4.1->tensorboard~=2.4->tensorflow->nlpia) (3.1.0)\r\n"
     ]
    }
   ],
   "source": [
    "# We first install the new dependency: nlpia (03_dit_coli_naivebayes.ipynb)\n",
    "! pip3 install nlpia"
   ]
  },
  {
   "cell_type": "code",
   "execution_count": 26,
   "metadata": {},
   "outputs": [],
   "source": [
    "# Loading the dependencies\n",
    "import pandas as pd\n",
    "\n",
    "from collections import Counter\n",
    "\n",
    "from nlpia.data.loaders import get_data \n",
    "\n",
    "# The casual tokenizer can handle emoticons, unusual punctuation and slang better than the TreeBank tokenizer\n",
    "from nltk.tokenize import casual_tokenize"
   ]
  },
  {
   "cell_type": "markdown",
   "metadata": {},
   "source": [
    "## Setting up the \"corpus\"\n",
    "\n",
    "Loading the movies corpus from Hutto movies"
   ]
  },
  {
   "cell_type": "code",
   "execution_count": 32,
   "metadata": {
    "collapsed": true
   },
   "outputs": [
    {
     "data": {
      "text/html": [
       "<div>\n",
       "<style scoped>\n",
       "    .dataframe tbody tr th:only-of-type {\n",
       "        vertical-align: middle;\n",
       "    }\n",
       "\n",
       "    .dataframe tbody tr th {\n",
       "        vertical-align: top;\n",
       "    }\n",
       "\n",
       "    .dataframe thead th {\n",
       "        text-align: right;\n",
       "    }\n",
       "</style>\n",
       "<table border=\"1\" class=\"dataframe\">\n",
       "  <thead>\n",
       "    <tr style=\"text-align: right;\">\n",
       "      <th></th>\n",
       "      <th>sentiment</th>\n",
       "      <th>text</th>\n",
       "    </tr>\n",
       "    <tr>\n",
       "      <th>id</th>\n",
       "      <th></th>\n",
       "      <th></th>\n",
       "    </tr>\n",
       "  </thead>\n",
       "  <tbody>\n",
       "    <tr>\n",
       "      <th>1</th>\n",
       "      <td>2.27</td>\n",
       "      <td>The Rock is destined to be the 21st Century's ...</td>\n",
       "    </tr>\n",
       "    <tr>\n",
       "      <th>2</th>\n",
       "      <td>3.53</td>\n",
       "      <td>The gorgeously elaborate continuation of ''The...</td>\n",
       "    </tr>\n",
       "    <tr>\n",
       "      <th>3</th>\n",
       "      <td>-0.60</td>\n",
       "      <td>Effective but too tepid biopic</td>\n",
       "    </tr>\n",
       "    <tr>\n",
       "      <th>4</th>\n",
       "      <td>1.47</td>\n",
       "      <td>If you sometimes like to go to the movies to h...</td>\n",
       "    </tr>\n",
       "    <tr>\n",
       "      <th>5</th>\n",
       "      <td>1.73</td>\n",
       "      <td>Emerges as something rare, an issue movie that...</td>\n",
       "    </tr>\n",
       "  </tbody>\n",
       "</table>\n",
       "</div>"
      ],
      "text/plain": [
       "    sentiment                                               text\n",
       "id                                                              \n",
       "1        2.27  The Rock is destined to be the 21st Century's ...\n",
       "2        3.53  The gorgeously elaborate continuation of ''The...\n",
       "3       -0.60                     Effective but too tepid biopic\n",
       "4        1.47  If you sometimes like to go to the movies to h...\n",
       "5        1.73  Emerges as something rare, an issue movie that..."
      ]
     },
     "execution_count": 32,
     "metadata": {},
     "output_type": "execute_result"
    }
   ],
   "source": [
    "movies = get_data('hutto_movies')\n",
    "\n",
    "# Looking at some of the first instances\n",
    "movies.head().round(2)"
   ]
  },
  {
   "cell_type": "markdown",
   "metadata": {},
   "source": [
    "### Getting a description of the data (look at the range)"
   ]
  },
  {
   "cell_type": "code",
   "execution_count": 28,
   "metadata": {
    "collapsed": true
   },
   "outputs": [
    {
     "data": {
      "text/html": [
       "<div>\n",
       "<style scoped>\n",
       "    .dataframe tbody tr th:only-of-type {\n",
       "        vertical-align: middle;\n",
       "    }\n",
       "\n",
       "    .dataframe tbody tr th {\n",
       "        vertical-align: top;\n",
       "    }\n",
       "\n",
       "    .dataframe thead th {\n",
       "        text-align: right;\n",
       "    }\n",
       "</style>\n",
       "<table border=\"1\" class=\"dataframe\">\n",
       "  <thead>\n",
       "    <tr style=\"text-align: right;\">\n",
       "      <th></th>\n",
       "      <th>sentiment</th>\n",
       "    </tr>\n",
       "  </thead>\n",
       "  <tbody>\n",
       "    <tr>\n",
       "      <th>count</th>\n",
       "      <td>10605.00</td>\n",
       "    </tr>\n",
       "    <tr>\n",
       "      <th>mean</th>\n",
       "      <td>0.00</td>\n",
       "    </tr>\n",
       "    <tr>\n",
       "      <th>std</th>\n",
       "      <td>1.92</td>\n",
       "    </tr>\n",
       "    <tr>\n",
       "      <th>min</th>\n",
       "      <td>-3.88</td>\n",
       "    </tr>\n",
       "    <tr>\n",
       "      <th>25%</th>\n",
       "      <td>-1.77</td>\n",
       "    </tr>\n",
       "    <tr>\n",
       "      <th>50%</th>\n",
       "      <td>-0.08</td>\n",
       "    </tr>\n",
       "    <tr>\n",
       "      <th>75%</th>\n",
       "      <td>1.83</td>\n",
       "    </tr>\n",
       "    <tr>\n",
       "      <th>max</th>\n",
       "      <td>3.94</td>\n",
       "    </tr>\n",
       "  </tbody>\n",
       "</table>\n",
       "</div>"
      ],
      "text/plain": [
       "       sentiment\n",
       "count   10605.00\n",
       "mean        0.00\n",
       "std         1.92\n",
       "min        -3.88\n",
       "25%        -1.77\n",
       "50%        -0.08\n",
       "75%         1.83\n",
       "max         3.94"
      ]
     },
     "execution_count": 28,
     "metadata": {},
     "output_type": "execute_result"
    }
   ],
   "source": [
    "movies.describe().round(2)"
   ]
  },
  {
   "cell_type": "code",
   "execution_count": 33,
   "metadata": {
    "collapsed": true
   },
   "outputs": [
    {
     "data": {
      "text/plain": [
       "id\n",
       "1        2.266667\n",
       "2        3.533333\n",
       "3       -0.600000\n",
       "4        1.466667\n",
       "5        1.733333\n",
       "           ...   \n",
       "10601   -0.062500\n",
       "10602   -1.500000\n",
       "10603   -0.625000\n",
       "10604    1.437500\n",
       "10605   -1.812500\n",
       "Name: sentiment, Length: 10605, dtype: float64"
      ]
     },
     "execution_count": 33,
     "metadata": {},
     "output_type": "execute_result"
    }
   ],
   "source": [
    "# Helps display wide DataFrames in the console, so they look prettier\n",
    "pd.set_option('display.width', 75)\n",
    "movies.sentiment"
   ]
  },
  {
   "cell_type": "markdown",
   "metadata": {},
   "source": [
    "### Loading the data into a DataFrame through a list of dictionaries"
   ]
  },
  {
   "cell_type": "code",
   "execution_count": 36,
   "metadata": {
    "collapsed": true
   },
   "outputs": [
    {
     "name": "stdout",
     "output_type": "stream",
     "text": [
      "       The  Rock   is  destined   to   be  the  21st  Century's  new  \\\n",
      "0      1.0   1.0  1.0       1.0  2.0  1.0  1.0   1.0        1.0  1.0   \n",
      "1      2.0   NaN  1.0       NaN  NaN  NaN  1.0   NaN        NaN  NaN   \n",
      "2      NaN   NaN  NaN       NaN  NaN  NaN  NaN   NaN        NaN  NaN   \n",
      "3      NaN   NaN  1.0       NaN  4.0  NaN  1.0   NaN        NaN  NaN   \n",
      "4      NaN   NaN  NaN       NaN  NaN  NaN  NaN   NaN        NaN  NaN   \n",
      "...    ...   ...  ...       ...  ...  ...  ...   ...        ...  ...   \n",
      "10600  NaN   NaN  NaN       NaN  NaN  NaN  NaN   NaN        NaN  NaN   \n",
      "10601  NaN   NaN  NaN       NaN  NaN  NaN  NaN   NaN        NaN  NaN   \n",
      "10602  NaN   NaN  NaN       NaN  NaN  NaN  NaN   NaN        NaN  NaN   \n",
      "10603  NaN   NaN  NaN       NaN  NaN  NaN  2.0   NaN        NaN  NaN   \n",
      "10604  NaN   NaN  NaN       NaN  NaN  NaN  2.0   NaN        NaN  NaN   \n",
      "\n",
      "       ...  Ill  slummer  Rashomon  dipsticks  Bearable  Staggeringly  \\\n",
      "0      ...  NaN      NaN       NaN        NaN       NaN           NaN   \n",
      "1      ...  NaN      NaN       NaN        NaN       NaN           NaN   \n",
      "2      ...  NaN      NaN       NaN        NaN       NaN           NaN   \n",
      "3      ...  NaN      NaN       NaN        NaN       NaN           NaN   \n",
      "4      ...  NaN      NaN       NaN        NaN       NaN           NaN   \n",
      "...    ...  ...      ...       ...        ...       ...           ...   \n",
      "10600  ...  NaN      NaN       NaN        NaN       NaN           NaN   \n",
      "10601  ...  NaN      NaN       NaN        NaN       NaN           NaN   \n",
      "10602  ...  NaN      NaN       NaN        NaN       NaN           NaN   \n",
      "10603  ...  NaN      NaN       NaN        NaN       NaN           NaN   \n",
      "10604  ...  NaN      NaN       NaN        NaN       NaN           NaN   \n",
      "\n",
      "         ’   ve  muttering  dissing  \n",
      "0      NaN  NaN        NaN      NaN  \n",
      "1      NaN  NaN        NaN      NaN  \n",
      "2      NaN  NaN        NaN      NaN  \n",
      "3      NaN  NaN        NaN      NaN  \n",
      "4      NaN  NaN        NaN      NaN  \n",
      "...    ...  ...        ...      ...  \n",
      "10600  NaN  NaN        NaN      NaN  \n",
      "10601  NaN  NaN        NaN      NaN  \n",
      "10602  NaN  NaN        NaN      NaN  \n",
      "10603  2.0  1.0        NaN      NaN  \n",
      "10604  NaN  NaN        1.0      1.0  \n",
      "\n",
      "[10605 rows x 20756 columns]\n"
     ]
    }
   ],
   "source": [
    "bags_of_words = []\n",
    "\n",
    "for text in movies.text:\n",
    "    bags_of_words.append(Counter(casual_tokenize(text)))\n",
    "\n",
    "df_bows = pd.DataFrame.from_records(bags_of_words)\n",
    "\n",
    "# from_records() is a DataFrame constructor.\n",
    "# INPUT: a sequence (list) of dictionaries\n",
    "# OUTPUT: a DF with columns for all the keys and associated values. \n",
    "# (Missing values become NaN!)\n",
    "print(df_bows)"
   ]
  },
  {
   "cell_type": "code",
   "execution_count": 37,
   "metadata": {
    "collapsed": true
   },
   "outputs": [
    {
     "name": "stdout",
     "output_type": "stream",
     "text": [
      "       The  Rock  is  destined  to  be  the  21st  Century's  new  ...  \\\n",
      "0        1     1   1         1   2   1    1     1          1    1  ...   \n",
      "1        2     0   1         0   0   0    1     0          0    0  ...   \n",
      "2        0     0   0         0   0   0    0     0          0    0  ...   \n",
      "3        0     0   1         0   4   0    1     0          0    0  ...   \n",
      "4        0     0   0         0   0   0    0     0          0    0  ...   \n",
      "...    ...   ...  ..       ...  ..  ..  ...   ...        ...  ...  ...   \n",
      "10600    0     0   0         0   0   0    0     0          0    0  ...   \n",
      "10601    0     0   0         0   0   0    0     0          0    0  ...   \n",
      "10602    0     0   0         0   0   0    0     0          0    0  ...   \n",
      "10603    0     0   0         0   0   0    2     0          0    0  ...   \n",
      "10604    0     0   0         0   0   0    2     0          0    0  ...   \n",
      "\n",
      "       Ill  slummer  Rashomon  dipsticks  Bearable  Staggeringly  ’  ve  \\\n",
      "0        0        0         0          0         0             0  0   0   \n",
      "1        0        0         0          0         0             0  0   0   \n",
      "2        0        0         0          0         0             0  0   0   \n",
      "3        0        0         0          0         0             0  0   0   \n",
      "4        0        0         0          0         0             0  0   0   \n",
      "...    ...      ...       ...        ...       ...           ... ..  ..   \n",
      "10600    0        0         0          0         0             0  0   0   \n",
      "10601    0        0         0          0         0             0  0   0   \n",
      "10602    0        0         0          0         0             0  0   0   \n",
      "10603    0        0         0          0         0             0  2   1   \n",
      "10604    0        0         0          0         0             0  0   0   \n",
      "\n",
      "       muttering  dissing  \n",
      "0              0        0  \n",
      "1              0        0  \n",
      "2              0        0  \n",
      "3              0        0  \n",
      "4              0        0  \n",
      "...          ...      ...  \n",
      "10600          0        0  \n",
      "10601          0        0  \n",
      "10602          0        0  \n",
      "10603          0        0  \n",
      "10604          1        1  \n",
      "\n",
      "[10605 rows x 20756 columns]\n"
     ]
    }
   ],
   "source": [
    "# So we fill them with 0:\n",
    "df_bows = df_bows.fillna(0).astype(int)\n",
    "print(df_bows)"
   ]
  },
  {
   "cell_type": "markdown",
   "metadata": {},
   "source": [
    "### Let us look at the shape\n",
    "\n",
    "Spoiler: A BoW can explode in size; even more when no normalisation is applied at all\n"
   ]
  },
  {
   "cell_type": "code",
   "execution_count": 38,
   "metadata": {
    "collapsed": true
   },
   "outputs": [
    {
     "data": {
      "text/plain": [
       "(10605, 20756)"
      ]
     },
     "execution_count": 38,
     "metadata": {},
     "output_type": "execute_result"
    }
   ],
   "source": [
    "df_bows.shape"
   ]
  },
  {
   "cell_type": "markdown",
   "metadata": {},
   "source": [
    "Now, let us see the first instances (it is quite sparse)"
   ]
  },
  {
   "cell_type": "code",
   "execution_count": 39,
   "metadata": {
    "collapsed": true
   },
   "outputs": [
    {
     "data": {
      "text/html": [
       "<div>\n",
       "<style scoped>\n",
       "    .dataframe tbody tr th:only-of-type {\n",
       "        vertical-align: middle;\n",
       "    }\n",
       "\n",
       "    .dataframe tbody tr th {\n",
       "        vertical-align: top;\n",
       "    }\n",
       "\n",
       "    .dataframe thead th {\n",
       "        text-align: right;\n",
       "    }\n",
       "</style>\n",
       "<table border=\"1\" class=\"dataframe\">\n",
       "  <thead>\n",
       "    <tr style=\"text-align: right;\">\n",
       "      <th></th>\n",
       "      <th>The</th>\n",
       "      <th>Rock</th>\n",
       "      <th>is</th>\n",
       "      <th>destined</th>\n",
       "      <th>to</th>\n",
       "      <th>be</th>\n",
       "      <th>the</th>\n",
       "      <th>21st</th>\n",
       "      <th>Century's</th>\n",
       "      <th>new</th>\n",
       "      <th>...</th>\n",
       "      <th>Ill</th>\n",
       "      <th>slummer</th>\n",
       "      <th>Rashomon</th>\n",
       "      <th>dipsticks</th>\n",
       "      <th>Bearable</th>\n",
       "      <th>Staggeringly</th>\n",
       "      <th>’</th>\n",
       "      <th>ve</th>\n",
       "      <th>muttering</th>\n",
       "      <th>dissing</th>\n",
       "    </tr>\n",
       "  </thead>\n",
       "  <tbody>\n",
       "    <tr>\n",
       "      <th>0</th>\n",
       "      <td>1</td>\n",
       "      <td>1</td>\n",
       "      <td>1</td>\n",
       "      <td>1</td>\n",
       "      <td>2</td>\n",
       "      <td>1</td>\n",
       "      <td>1</td>\n",
       "      <td>1</td>\n",
       "      <td>1</td>\n",
       "      <td>1</td>\n",
       "      <td>...</td>\n",
       "      <td>0</td>\n",
       "      <td>0</td>\n",
       "      <td>0</td>\n",
       "      <td>0</td>\n",
       "      <td>0</td>\n",
       "      <td>0</td>\n",
       "      <td>0</td>\n",
       "      <td>0</td>\n",
       "      <td>0</td>\n",
       "      <td>0</td>\n",
       "    </tr>\n",
       "    <tr>\n",
       "      <th>1</th>\n",
       "      <td>2</td>\n",
       "      <td>0</td>\n",
       "      <td>1</td>\n",
       "      <td>0</td>\n",
       "      <td>0</td>\n",
       "      <td>0</td>\n",
       "      <td>1</td>\n",
       "      <td>0</td>\n",
       "      <td>0</td>\n",
       "      <td>0</td>\n",
       "      <td>...</td>\n",
       "      <td>0</td>\n",
       "      <td>0</td>\n",
       "      <td>0</td>\n",
       "      <td>0</td>\n",
       "      <td>0</td>\n",
       "      <td>0</td>\n",
       "      <td>0</td>\n",
       "      <td>0</td>\n",
       "      <td>0</td>\n",
       "      <td>0</td>\n",
       "    </tr>\n",
       "    <tr>\n",
       "      <th>2</th>\n",
       "      <td>0</td>\n",
       "      <td>0</td>\n",
       "      <td>0</td>\n",
       "      <td>0</td>\n",
       "      <td>0</td>\n",
       "      <td>0</td>\n",
       "      <td>0</td>\n",
       "      <td>0</td>\n",
       "      <td>0</td>\n",
       "      <td>0</td>\n",
       "      <td>...</td>\n",
       "      <td>0</td>\n",
       "      <td>0</td>\n",
       "      <td>0</td>\n",
       "      <td>0</td>\n",
       "      <td>0</td>\n",
       "      <td>0</td>\n",
       "      <td>0</td>\n",
       "      <td>0</td>\n",
       "      <td>0</td>\n",
       "      <td>0</td>\n",
       "    </tr>\n",
       "    <tr>\n",
       "      <th>3</th>\n",
       "      <td>0</td>\n",
       "      <td>0</td>\n",
       "      <td>1</td>\n",
       "      <td>0</td>\n",
       "      <td>4</td>\n",
       "      <td>0</td>\n",
       "      <td>1</td>\n",
       "      <td>0</td>\n",
       "      <td>0</td>\n",
       "      <td>0</td>\n",
       "      <td>...</td>\n",
       "      <td>0</td>\n",
       "      <td>0</td>\n",
       "      <td>0</td>\n",
       "      <td>0</td>\n",
       "      <td>0</td>\n",
       "      <td>0</td>\n",
       "      <td>0</td>\n",
       "      <td>0</td>\n",
       "      <td>0</td>\n",
       "      <td>0</td>\n",
       "    </tr>\n",
       "    <tr>\n",
       "      <th>4</th>\n",
       "      <td>0</td>\n",
       "      <td>0</td>\n",
       "      <td>0</td>\n",
       "      <td>0</td>\n",
       "      <td>0</td>\n",
       "      <td>0</td>\n",
       "      <td>0</td>\n",
       "      <td>0</td>\n",
       "      <td>0</td>\n",
       "      <td>0</td>\n",
       "      <td>...</td>\n",
       "      <td>0</td>\n",
       "      <td>0</td>\n",
       "      <td>0</td>\n",
       "      <td>0</td>\n",
       "      <td>0</td>\n",
       "      <td>0</td>\n",
       "      <td>0</td>\n",
       "      <td>0</td>\n",
       "      <td>0</td>\n",
       "      <td>0</td>\n",
       "    </tr>\n",
       "  </tbody>\n",
       "</table>\n",
       "<p>5 rows × 20756 columns</p>\n",
       "</div>"
      ],
      "text/plain": [
       "   The  Rock  is  destined  to  be  the  21st  Century's  new  ...  Ill  \\\n",
       "0    1     1   1         1   2   1    1     1          1    1  ...    0   \n",
       "1    2     0   1         0   0   0    1     0          0    0  ...    0   \n",
       "2    0     0   0         0   0   0    0     0          0    0  ...    0   \n",
       "3    0     0   1         0   4   0    1     0          0    0  ...    0   \n",
       "4    0     0   0         0   0   0    0     0          0    0  ...    0   \n",
       "\n",
       "   slummer  Rashomon  dipsticks  Bearable  Staggeringly  ’  ve  \\\n",
       "0        0         0          0         0             0  0   0   \n",
       "1        0         0          0         0             0  0   0   \n",
       "2        0         0          0         0             0  0   0   \n",
       "3        0         0          0         0             0  0   0   \n",
       "4        0         0          0         0             0  0   0   \n",
       "\n",
       "   muttering  dissing  \n",
       "0          0        0  \n",
       "1          0        0  \n",
       "2          0        0  \n",
       "3          0        0  \n",
       "4          0        0  \n",
       "\n",
       "[5 rows x 20756 columns]"
      ]
     },
     "execution_count": 39,
     "metadata": {},
     "output_type": "execute_result"
    }
   ],
   "source": [
    "df_bows.head()"
   ]
  },
  {
   "cell_type": "markdown",
   "metadata": {},
   "source": [
    "\n",
    "**Homework**: Integrate the normalisation pipeline (lowercasing, stopwording and stemming or lemmatisation) and see how the dataframe gets affected"
   ]
  },
  {
   "cell_type": "code",
   "execution_count": 40,
   "metadata": {},
   "outputs": [],
   "source": [
    "# write your code here\n",
    "None"
   ]
  },
  {
   "cell_type": "code",
   "execution_count": 42,
   "metadata": {
    "collapsed": true
   },
   "outputs": [
    {
     "name": "stdout",
     "output_type": "stream",
     "text": [
      "   The  Rock  is  destined  to  be  the  21st  Century's  new  ...  \\\n",
      "0    1     1   1         1   2   1    1     1          1    1  ...   \n",
      "1    2     0   1         0   0   0    1     0          0    0  ...   \n",
      "2    0     0   0         0   0   0    0     0          0    0  ...   \n",
      "3    0     0   1         0   4   0    1     0          0    0  ...   \n",
      "4    0     0   0         0   0   0    0     0          0    0  ...   \n",
      "\n",
      "   Schwarzenegger  ,  Jean  Claud  Van  Damme  or  Steven  Segal  .  \n",
      "0               1  1     1      1    1      1   1       1      1  1  \n",
      "1               0  0     0      0    0      0   0       0      0  4  \n",
      "2               0  0     0      0    0      0   0       0      0  0  \n",
      "3               0  1     0      0    0      0   0       0      0  1  \n",
      "4               0  1     0      0    0      0   0       0      0  1  \n",
      "\n",
      "[5 rows x 33 columns]\n",
      "   The  gorgeously  elaborate  continuation  of  '  Lord  the  Rings  \\\n",
      "0    1           0          0             0   0  4     0    1      0   \n",
      "1    2           1          1             1   4  4     1    1      1   \n",
      "2    0           0          0             0   0  0     0    0      0   \n",
      "3    0           0          0             0   0  0     0    1      0   \n",
      "4    0           0          0             0   0  0     0    0      0   \n",
      "\n",
      "   trilogy  ...  Peter  Jackson's  expanded  vision  J  .  R  Tolkien's  \\\n",
      "0        0  ...      0          0         0       0  0  1  0          0   \n",
      "1        1  ...      1          1         1       1  1  4  2          1   \n",
      "2        0  ...      0          0         0       0  0  0  0          0   \n",
      "3        0  ...      0          0         0       0  0  1  0          0   \n",
      "4        0  ...      0          0         0       0  0  1  0          0   \n",
      "\n",
      "   Middle  earth  \n",
      "0       0      0  \n",
      "1       1      1  \n",
      "2       0      0  \n",
      "3       0      0  \n",
      "4       0      0  \n",
      "\n",
      "[5 rows x 34 columns]\n"
     ]
    }
   ],
   "source": [
    "print(df_bows.head()[list(bags_of_words[0].keys())])\n",
    "print(df_bows.head()[list(bags_of_words[1].keys())])"
   ]
  },
  {
   "cell_type": "markdown",
   "metadata": {},
   "source": [
    "### Build the Naive Bayes classifier\n",
    "\n",
    "All the data is now ready. Let us build a Multinomial NB.\n",
    "\n",
    "Multinomial NB is suitable for discrete features (e.g., word counts for text classification). "
   ]
  },
  {
   "cell_type": "code",
   "execution_count": 43,
   "metadata": {},
   "outputs": [],
   "source": [
    "from sklearn.naive_bayes import MultinomialNB\n",
    "nb = MultinomialNB()"
   ]
  },
  {
   "cell_type": "code",
   "execution_count": 44,
   "metadata": {
    "collapsed": true
   },
   "outputs": [
    {
     "data": {
      "text/plain": [
       "id\n",
       "1         True\n",
       "2         True\n",
       "3        False\n",
       "4         True\n",
       "5         True\n",
       "         ...  \n",
       "10601    False\n",
       "10602    False\n",
       "10603    False\n",
       "10604     True\n",
       "10605    False\n",
       "Name: sentiment, Length: 10605, dtype: bool"
      ]
     },
     "execution_count": 44,
     "metadata": {},
     "output_type": "execute_result"
    }
   ],
   "source": [
    "# \"Binarising\" the classes\n",
    "movies.sentiment > 0"
   ]
  },
  {
   "cell_type": "markdown",
   "metadata": {},
   "source": [
    "Now we can train (\"fit\") our model"
   ]
  },
  {
   "cell_type": "code",
   "execution_count": 45,
   "metadata": {},
   "outputs": [],
   "source": [
    "# We are converting the class from float to Boolean, \n",
    "# as this classifier only supports discrete labels \n",
    "nb = nb.fit(df_bows, movies.sentiment > 0)"
   ]
  },
  {
   "cell_type": "markdown",
   "metadata": {},
   "source": [
    "### We have a model and we can predict!"
   ]
  },
  {
   "cell_type": "code",
   "execution_count": 46,
   "metadata": {
    "collapsed": true
   },
   "outputs": [
    {
     "data": {
      "text/html": [
       "<div>\n",
       "<style scoped>\n",
       "    .dataframe tbody tr th:only-of-type {\n",
       "        vertical-align: middle;\n",
       "    }\n",
       "\n",
       "    .dataframe tbody tr th {\n",
       "        vertical-align: top;\n",
       "    }\n",
       "\n",
       "    .dataframe thead th {\n",
       "        text-align: right;\n",
       "    }\n",
       "</style>\n",
       "<table border=\"1\" class=\"dataframe\">\n",
       "  <thead>\n",
       "    <tr style=\"text-align: right;\">\n",
       "      <th></th>\n",
       "      <th>sentiment</th>\n",
       "      <th>text</th>\n",
       "      <th>predicted_sentiment</th>\n",
       "    </tr>\n",
       "    <tr>\n",
       "      <th>id</th>\n",
       "      <th></th>\n",
       "      <th></th>\n",
       "      <th></th>\n",
       "    </tr>\n",
       "  </thead>\n",
       "  <tbody>\n",
       "    <tr>\n",
       "      <th>1</th>\n",
       "      <td>2.266667</td>\n",
       "      <td>The Rock is destined to be the 21st Century's ...</td>\n",
       "      <td>2.511515</td>\n",
       "    </tr>\n",
       "    <tr>\n",
       "      <th>2</th>\n",
       "      <td>3.533333</td>\n",
       "      <td>The gorgeously elaborate continuation of ''The...</td>\n",
       "      <td>3.999904</td>\n",
       "    </tr>\n",
       "    <tr>\n",
       "      <th>3</th>\n",
       "      <td>-0.600000</td>\n",
       "      <td>Effective but too tepid biopic</td>\n",
       "      <td>-3.655976</td>\n",
       "    </tr>\n",
       "    <tr>\n",
       "      <th>4</th>\n",
       "      <td>1.466667</td>\n",
       "      <td>If you sometimes like to go to the movies to h...</td>\n",
       "      <td>1.940954</td>\n",
       "    </tr>\n",
       "    <tr>\n",
       "      <th>5</th>\n",
       "      <td>1.733333</td>\n",
       "      <td>Emerges as something rare, an issue movie that...</td>\n",
       "      <td>3.910373</td>\n",
       "    </tr>\n",
       "    <tr>\n",
       "      <th>...</th>\n",
       "      <td>...</td>\n",
       "      <td>...</td>\n",
       "      <td>...</td>\n",
       "    </tr>\n",
       "    <tr>\n",
       "      <th>10601</th>\n",
       "      <td>-0.062500</td>\n",
       "      <td>Well made but mush hearted.</td>\n",
       "      <td>-3.166489</td>\n",
       "    </tr>\n",
       "    <tr>\n",
       "      <th>10602</th>\n",
       "      <td>-1.500000</td>\n",
       "      <td>A real snooze.</td>\n",
       "      <td>-1.056805</td>\n",
       "    </tr>\n",
       "    <tr>\n",
       "      <th>10603</th>\n",
       "      <td>-0.625000</td>\n",
       "      <td>No surprises.</td>\n",
       "      <td>-1.481449</td>\n",
       "    </tr>\n",
       "    <tr>\n",
       "      <th>10604</th>\n",
       "      <td>1.437500</td>\n",
       "      <td>We’ve seen the hippie turned yuppie plot befor...</td>\n",
       "      <td>3.988988</td>\n",
       "    </tr>\n",
       "    <tr>\n",
       "      <th>10605</th>\n",
       "      <td>-1.812500</td>\n",
       "      <td>Her fans walked out muttering words like ''hor...</td>\n",
       "      <td>-3.997954</td>\n",
       "    </tr>\n",
       "  </tbody>\n",
       "</table>\n",
       "<p>10605 rows × 3 columns</p>\n",
       "</div>"
      ],
      "text/plain": [
       "       sentiment                                               text  \\\n",
       "id                                                                    \n",
       "1       2.266667  The Rock is destined to be the 21st Century's ...   \n",
       "2       3.533333  The gorgeously elaborate continuation of ''The...   \n",
       "3      -0.600000                     Effective but too tepid biopic   \n",
       "4       1.466667  If you sometimes like to go to the movies to h...   \n",
       "5       1.733333  Emerges as something rare, an issue movie that...   \n",
       "...          ...                                                ...   \n",
       "10601  -0.062500                        Well made but mush hearted.   \n",
       "10602  -1.500000                                     A real snooze.   \n",
       "10603  -0.625000                                      No surprises.   \n",
       "10604   1.437500  We’ve seen the hippie turned yuppie plot befor...   \n",
       "10605  -1.812500  Her fans walked out muttering words like ''hor...   \n",
       "\n",
       "       predicted_sentiment  \n",
       "id                          \n",
       "1                 2.511515  \n",
       "2                 3.999904  \n",
       "3                -3.655976  \n",
       "4                 1.940954  \n",
       "5                 3.910373  \n",
       "...                    ...  \n",
       "10601            -3.166489  \n",
       "10602            -1.056805  \n",
       "10603            -1.481449  \n",
       "10604             3.988988  \n",
       "10605            -3.997954  \n",
       "\n",
       "[10605 rows x 3 columns]"
      ]
     },
     "execution_count": 46,
     "metadata": {},
     "output_type": "execute_result"
    }
   ],
   "source": [
    "# predict_proba() gets continious-value predictions.\n",
    "# We multiply and subtract it to convert the output to range [-4,4]\n",
    "\n",
    "#print(predictions[:10])\n",
    "# TODO there seems to be an error in th ebook code. \n",
    "# predict_proba returns the scores for all the classes (2) and we aim at\n",
    "# assigning only the one for the positive class. \n",
    "# I had to to the following trick instead of the original\n",
    "# movies['predicted_sentiment'] = nb.predict(df_bows) * 8 - 4\n",
    "predictions = nb.predict_proba(df_bows) * 8 - 4 \n",
    "movies['predicted_sentiment'] = [x[1] for x in predictions]\n",
    "\n",
    "movies"
   ]
  },
  {
   "cell_type": "code",
   "execution_count": null,
   "metadata": {},
   "outputs": [],
   "source": [
    "abs(n)\n",
    "\n",
    "abs(5) -> 5\n",
    "abs(-34) -> 34\n",
    "abs(0) -> 0"
   ]
  },
  {
   "cell_type": "code",
   "execution_count": null,
   "metadata": {},
   "outputs": [],
   "source": [
    "1    0.5   -> 0.5\n",
    "0.5  1     -> 0.5\n",
    "\n",
    "0/2 -> 0\n",
    "\n",
    "(0.5+0.5)/2 -> 0.5\n"
   ]
  },
  {
   "cell_type": "markdown",
   "metadata": {},
   "source": [
    "Now, we compute the Mean Absolut Error (MAE) \"a measure of difference between two continuous variables\""
   ]
  },
  {
   "cell_type": "code",
   "execution_count": 47,
   "metadata": {
    "collapsed": true
   },
   "outputs": [
    {
     "data": {
      "text/plain": [
       "1.9"
      ]
     },
     "execution_count": 47,
     "metadata": {},
     "output_type": "execute_result"
    }
   ],
   "source": [
    "\n",
    "movies['error'] = (movies.predicted_sentiment - movies.sentiment).abs()\n",
    "# This is the mean absolute error (MAE)\n",
    "movies.error.mean().round(1)\n"
   ]
  },
  {
   "cell_type": "markdown",
   "metadata": {},
   "source": [
    "Now, let us see some gold and predicted sentiments, together with the binary classification"
   ]
  },
  {
   "cell_type": "code",
   "execution_count": 48,
   "metadata": {
    "collapsed": true
   },
   "outputs": [
    {
     "data": {
      "text/html": [
       "<div>\n",
       "<style scoped>\n",
       "    .dataframe tbody tr th:only-of-type {\n",
       "        vertical-align: middle;\n",
       "    }\n",
       "\n",
       "    .dataframe tbody tr th {\n",
       "        vertical-align: top;\n",
       "    }\n",
       "\n",
       "    .dataframe thead th {\n",
       "        text-align: right;\n",
       "    }\n",
       "</style>\n",
       "<table border=\"1\" class=\"dataframe\">\n",
       "  <thead>\n",
       "    <tr style=\"text-align: right;\">\n",
       "      <th></th>\n",
       "      <th>sentiment</th>\n",
       "      <th>predicted_sentiment</th>\n",
       "      <th>sentiment_ispositive</th>\n",
       "      <th>predicted_ispositive</th>\n",
       "    </tr>\n",
       "    <tr>\n",
       "      <th>id</th>\n",
       "      <th></th>\n",
       "      <th></th>\n",
       "      <th></th>\n",
       "      <th></th>\n",
       "    </tr>\n",
       "  </thead>\n",
       "  <tbody>\n",
       "    <tr>\n",
       "      <th>1</th>\n",
       "      <td>2.266667</td>\n",
       "      <td>2.511515</td>\n",
       "      <td>1</td>\n",
       "      <td>1</td>\n",
       "    </tr>\n",
       "    <tr>\n",
       "      <th>2</th>\n",
       "      <td>3.533333</td>\n",
       "      <td>3.999904</td>\n",
       "      <td>1</td>\n",
       "      <td>1</td>\n",
       "    </tr>\n",
       "    <tr>\n",
       "      <th>3</th>\n",
       "      <td>-0.600000</td>\n",
       "      <td>-3.655976</td>\n",
       "      <td>0</td>\n",
       "      <td>0</td>\n",
       "    </tr>\n",
       "    <tr>\n",
       "      <th>4</th>\n",
       "      <td>1.466667</td>\n",
       "      <td>1.940954</td>\n",
       "      <td>1</td>\n",
       "      <td>1</td>\n",
       "    </tr>\n",
       "    <tr>\n",
       "      <th>5</th>\n",
       "      <td>1.733333</td>\n",
       "      <td>3.910373</td>\n",
       "      <td>1</td>\n",
       "      <td>1</td>\n",
       "    </tr>\n",
       "    <tr>\n",
       "      <th>6</th>\n",
       "      <td>2.533333</td>\n",
       "      <td>3.995188</td>\n",
       "      <td>1</td>\n",
       "      <td>1</td>\n",
       "    </tr>\n",
       "    <tr>\n",
       "      <th>7</th>\n",
       "      <td>2.466667</td>\n",
       "      <td>3.960466</td>\n",
       "      <td>1</td>\n",
       "      <td>1</td>\n",
       "    </tr>\n",
       "    <tr>\n",
       "      <th>8</th>\n",
       "      <td>1.266667</td>\n",
       "      <td>-1.918701</td>\n",
       "      <td>1</td>\n",
       "      <td>0</td>\n",
       "    </tr>\n",
       "  </tbody>\n",
       "</table>\n",
       "</div>"
      ],
      "text/plain": [
       "    sentiment  predicted_sentiment  sentiment_ispositive  \\\n",
       "id                                                         \n",
       "1    2.266667             2.511515                     1   \n",
       "2    3.533333             3.999904                     1   \n",
       "3   -0.600000            -3.655976                     0   \n",
       "4    1.466667             1.940954                     1   \n",
       "5    1.733333             3.910373                     1   \n",
       "6    2.533333             3.995188                     1   \n",
       "7    2.466667             3.960466                     1   \n",
       "8    1.266667            -1.918701                     1   \n",
       "\n",
       "    predicted_ispositive  \n",
       "id                        \n",
       "1                      1  \n",
       "2                      1  \n",
       "3                      0  \n",
       "4                      1  \n",
       "5                      1  \n",
       "6                      1  \n",
       "7                      1  \n",
       "8                      0  "
      ]
     },
     "execution_count": 48,
     "metadata": {},
     "output_type": "execute_result"
    }
   ],
   "source": [
    "# Gold standard is positive\n",
    "movies['sentiment_ispositive'] = (movies.sentiment > 0).astype(int)\n",
    "\n",
    "# Prediction is positive\n",
    "movies['predicted_ispositive'] = (movies.predicted_sentiment > 0).astype(int)\n",
    "\n",
    "# Let us have an overview of gold standard vs prediction\n",
    "movies['''sentiment predicted_sentiment sentiment_ispositive predicted_ispositive'''.split()].head(8)"
   ]
  },
  {
   "cell_type": "code",
   "execution_count": 49,
   "metadata": {
    "collapsed": true
   },
   "outputs": [
    {
     "data": {
      "text/plain": [
       "0.9344648750589345"
      ]
     },
     "execution_count": 49,
     "metadata": {},
     "output_type": "execute_result"
    }
   ],
   "source": [
    "# And this is the percentage of \"thumbs up\" rating correctly predicted    \n",
    "(movies.predicted_ispositive == movies.sentiment_ispositive).sum() / len(movies)\n"
   ]
  },
  {
   "cell_type": "markdown",
   "metadata": {},
   "source": [
    "## not bad at all!"
   ]
  },
  {
   "cell_type": "code",
   "execution_count": null,
   "metadata": {},
   "outputs": [],
   "source": []
  }
 ],
 "metadata": {
  "kernelspec": {
   "display_name": "Python 3",
   "language": "python",
   "name": "python3"
  },
  "language_info": {
   "codemirror_mode": {
    "name": "ipython",
    "version": 3
   },
   "file_extension": ".py",
   "mimetype": "text/x-python",
   "name": "python",
   "nbconvert_exporter": "python",
   "pygments_lexer": "ipython3",
   "version": "3.8.8"
  }
 },
 "nbformat": 4,
 "nbformat_minor": 1
}
