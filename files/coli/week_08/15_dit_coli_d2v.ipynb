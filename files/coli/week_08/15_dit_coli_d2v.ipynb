{
 "cells": [
  {
   "cell_type": "markdown",
   "metadata": {},
   "source": [
    "# Doc2vec"
   ]
  },
  {
   "cell_type": "code",
   "execution_count": null,
   "metadata": {},
   "outputs": [],
   "source": [
    "# Finding out the number of cores available\n",
    "import multiprocessing\n",
    "num_cores = multiprocessing.cpu_count()\n",
    "num_cores"
   ]
  },
  {
   "cell_type": "code",
   "execution_count": null,
   "metadata": {},
   "outputs": [],
   "source": [
    "# Importing dependencies\n",
    "from gensim.models.doc2vec import TaggedDocument, Doc2Vec\n",
    "# gensim crude tokenizer that ignores one-letter words and punctuation\n",
    "from gensim.utils import simple_preprocess"
   ]
  },
  {
   "cell_type": "code",
   "execution_count": null,
   "metadata": {},
   "outputs": [],
   "source": [
    "# We need a list of documents as it's iterable\n",
    "# corpus = ['This is the first document ...',\\\n",
    "# 'another document ...']\n",
    "corpus = [\"The faster Harry got to the store, the faster and faster Harry would get home.\"]\n",
    "corpus.append(\"Harry is hairy and faster than Jill.\")\n",
    "corpus.append(\"Jill is not as hairy as Harry.\")\n",
    "training_corpus = []\n",
    "for i, text in enumerate(corpus):\n",
    "    tagged_doc = TaggedDocument(simple_preprocess(text), [i])\n",
    "    training_corpus.append(tagged_doc)\n",
    "print(training_corpus)"
   ]
  },
  {
   "cell_type": "code",
   "execution_count": null,
   "metadata": {},
   "outputs": [],
   "source": [
    "# Instantiating the object \n",
    "model = Doc2Vec(size=100,   # dimensions of the vectors\n",
    "                min_count=2, # min frequency for the tokens\n",
    "                workers=num_cores,  \n",
    "                iter=10)   # number of iterations\n",
    "# Compiling the vocabulary \n",
    "model.build_vocab(training_corpus)\n",
    "\n",
    "# training the model\n",
    "model.train(training_corpus, total_examples=model.corpus_count, epochs=model.iter)"
   ]
  },
  {
   "cell_type": "markdown",
   "metadata": {},
   "source": [
    "Inferring a  vector for a new document"
   ]
  },
  {
   "cell_type": "code",
   "execution_count": null,
   "metadata": {},
   "outputs": [],
   "source": [
    "model.infer_vector(simple_preprocess('Indeed Jill is the fastest'), steps=10)\n",
    "# This is not a static model. It has to be trained (10 iterations  in this case)"
   ]
  },
  {
   "cell_type": "code",
   "execution_count": null,
   "metadata": {},
   "outputs": [],
   "source": []
  }
 ],
 "metadata": {
  "kernelspec": {
   "display_name": "Python 3",
   "language": "python",
   "name": "python3"
  },
  "language_info": {
   "codemirror_mode": {
    "name": "ipython",
    "version": 3
   },
   "file_extension": ".py",
   "mimetype": "text/x-python",
   "name": "python",
   "nbconvert_exporter": "python",
   "pygments_lexer": "ipython3",
   "version": "3.8.13"
  }
 },
 "nbformat": 4,
 "nbformat_minor": 4
}
