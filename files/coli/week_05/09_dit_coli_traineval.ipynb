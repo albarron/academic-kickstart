{
 "cells": [
  {
   "cell_type": "markdown",
   "metadata": {},
   "source": [
    "# On Evaluation Metrics\n",
    "\n",
    "Let us evaluate some predictions with respect to the _gold standard_"
   ]
  },
  {
   "cell_type": "code",
   "execution_count": null,
   "metadata": {},
   "outputs": [],
   "source": [
    "import numpy as np\n",
    "import pandas as pd"
   ]
  },
  {
   "cell_type": "code",
   "execution_count": null,
   "metadata": {},
   "outputs": [],
   "source": [
    "# True and predicted classes\n",
    "y_true = np.array([0, 0, 0, 1, 1, 1, 1, 1, 1, 1])\n",
    "y_pred = np.array([0, 0, 1, 1, 1, 1, 1, 0, 0, 0])"
   ]
  },
  {
   "cell_type": "code",
   "execution_count": null,
   "metadata": {},
   "outputs": [],
   "source": [
    "# What the model got right\n",
    "true_positives = ((y_pred == y_true) & (y_pred == 1)).sum()\n",
    "true_negatives = ((y_pred == y_true) & (y_pred == 0)).sum()\n",
    "print(\"true positives:\", true_positives)\n",
    "print(\"true negatives:\", true_negatives)"
   ]
  },
  {
   "cell_type": "code",
   "execution_count": null,
   "metadata": {},
   "outputs": [],
   "source": [
    "# What the model got wrong\n",
    "false_positives = ((y_pred != y_true) & (y_pred == 1)).sum()\n",
    "false_negatives = ((y_pred != y_true) & (y_pred == 0)).sum()\n",
    "print(\"false positives:\", false_positives)\n",
    "print(\"false positives:\", false_negatives)\n",
    "# In the book this is inverted. I will get in touch with the authors"
   ]
  },
  {
   "cell_type": "code",
   "execution_count": null,
   "metadata": {},
   "outputs": [],
   "source": [
    "# Confusion matrix\n",
    "confusion = [[true_positives, false_positives],\n",
    "            [false_negatives, true_negatives]]\n",
    "# Not so nice display\n",
    "confusion"
   ]
  },
  {
   "cell_type": "code",
   "execution_count": null,
   "metadata": {},
   "outputs": [],
   "source": [
    "confusion = pd.DataFrame(confusion, columns=[1, 0], index=[1, 0])\n",
    "# columns: labels to use for th eresulting frame when data does not have them\n",
    "# index: Index to use for resulting frame\n",
    "confusion.index.name = r'pred \\ truth'\n",
    "confusion"
   ]
  },
  {
   "cell_type": "code",
   "execution_count": null,
   "metadata": {},
   "outputs": [],
   "source": [
    "# Precision and recall\n",
    "precision = true_positives / (true_positives + false_positives)\n",
    "recall = true_positives / (true_positives + false_negatives)\n",
    "print(\"precision:\", precision)\n",
    "print(\"recall:\", recall)"
   ]
  },
  {
   "cell_type": "code",
   "execution_count": null,
   "metadata": {},
   "outputs": [],
   "source": [
    "# F-measure\n",
    "f = 2 * precision * recall / (precision + recall)\n",
    "f"
   ]
  },
  {
   "cell_type": "code",
   "execution_count": null,
   "metadata": {},
   "outputs": [],
   "source": []
  }
 ],
 "metadata": {
  "kernelspec": {
   "display_name": "Python 3",
   "language": "python",
   "name": "python3"
  },
  "language_info": {
   "codemirror_mode": {
    "name": "ipython",
    "version": 3
   },
   "file_extension": ".py",
   "mimetype": "text/x-python",
   "name": "python",
   "nbconvert_exporter": "python",
   "pygments_lexer": "ipython3",
   "version": "3.8.12"
  }
 },
 "nbformat": 4,
 "nbformat_minor": 4
}
