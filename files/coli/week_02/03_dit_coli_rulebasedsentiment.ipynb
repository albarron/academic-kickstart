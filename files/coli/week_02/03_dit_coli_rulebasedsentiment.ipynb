{
 "cells": [
  {
   "cell_type": "markdown",
   "metadata": {},
   "source": [
    "# Playing with a rule-based sentiment analyser\n"
   ]
  },
  {
   "cell_type": "code",
   "execution_count": null,
   "metadata": {},
   "outputs": [],
   "source": [
    "! pip install vaderSentiment"
   ]
  },
  {
   "cell_type": "code",
   "execution_count": null,
   "metadata": {},
   "outputs": [],
   "source": [
    "from vaderSentiment.vaderSentiment import SentimentIntensityAnalyzer\n",
    "sa = SentimentIntensityAnalyzer()\n",
    "# Let us have a look at the lexicon\n",
    "#sa.lexicon\n",
    "[(tok, score) for tok, score in sa.lexicon.items() if tok.startswith(\"c\")]"
   ]
  },
  {
   "cell_type": "code",
   "execution_count": null,
   "metadata": {},
   "outputs": [],
   "source": [
    "# Let us see if there are bigrams\n",
    "[(tok, score) for tok, score in sa.lexicon.items() if \" \" in tok]\n"
   ]
  },
  {
   "cell_type": "code",
   "execution_count": null,
   "metadata": {},
   "outputs": [],
   "source": [
    "# Finally, let's score!!\n",
    "sa.polarity_scores(text=\"Python is very readable and it's great for NLP.\")\n"
   ]
  },
  {
   "cell_type": "code",
   "execution_count": null,
   "metadata": {},
   "outputs": [],
   "source": [
    "sa.polarity_scores(text=\"Python is not a bad choice for many applications.\")\n"
   ]
  },
  {
   "cell_type": "code",
   "execution_count": null,
   "metadata": {},
   "outputs": [],
   "source": [
    "corpus = [\"Absolutely perfect! Love it! :-) :-) :-)\",\n",
    "          \"Horrible! Completely useless. :(\",\n",
    "           \"It was OK. Some good and some bad things.\"]\n",
    "\n",
    "for doc in corpus:\n",
    "    scores = sa.polarity_scores(doc)\n",
    "    print('{:+}: {}'.format(scores['compound'], doc))\n"
   ]
  },
  {
   "cell_type": "code",
   "execution_count": null,
   "metadata": {},
   "outputs": [],
   "source": [
    "# Scoring an Amazon review\n",
    "\n",
    "text = \"\"\"\"This monitor is definitely a good value. Does it have superb color and \n",
    "contrast? No. Does it boast the best refresh rate on the market? No. \n",
    "But if you're tight on money, this thing looks and preforms great for the money. \n",
    "It has a Matte screen which does a great job at eliminating glare. The chassis it's enclosed \n",
    "within is absolutely stunning.\")\"\"\"\n",
    "len(text.split())\n",
    "\n",
    "for i in [10, 20, 45, 60]:\n",
    "    t = \" \".join(text.split()[:i])\n",
    "    print(i,\"\\t\", t)\n",
    "    print(\"ONE TIME\", sa.polarity_scores(t))\n",
    "    print(\"THREE TIME\", sa.polarity_scores(\" \".join([t, t, t])))\n",
    "    print\n"
   ]
  },
  {
   "cell_type": "code",
   "execution_count": null,
   "metadata": {},
   "outputs": [],
   "source": [
    "print(sa.polarity_scores(\"this is not good\"))\n",
    "print(sa.polarity_scores(\"this is not good at all\"))"
   ]
  },
  {
   "cell_type": "code",
   "execution_count": null,
   "metadata": {},
   "outputs": [],
   "source": [
    "# Scoring a tweet\n",
    "sa.polarity_scores(\"His ass didnt concede until July 12, 2016. Because he was throwing a tantrum. I can't say this enough: Fuck Bernie Sanders\")"
   ]
  },
  {
   "cell_type": "code",
   "execution_count": null,
   "metadata": {},
   "outputs": [],
   "source": []
  }
 ],
 "metadata": {
  "kernelspec": {
   "display_name": "Python 3",
   "language": "python",
   "name": "python3"
  },
  "language_info": {
   "codemirror_mode": {
    "name": "ipython",
    "version": 3
   },
   "file_extension": ".py",
   "mimetype": "text/x-python",
   "name": "python",
   "nbconvert_exporter": "python",
   "pygments_lexer": "ipython3",
   "version": "3.6.9"
  }
 },
 "nbformat": 4,
 "nbformat_minor": 1
}
