{
 "cells": [
  {
   "cell_type": "markdown",
   "metadata": {},
   "source": [
    "# Playing with a rule-based sentiment analyser\n",
    "\n",
    "The [VADER](http://comp.social.gatech.edu/papers/icwsm14.vader.hutto.pdf) sentiment analyser was introduced in ICWCSM 2014. [ICWCSM](https://www.icwsm.org/) is the Conference on Web and Social Media.\n",
    "\n",
    "Vader has been [released](https://pypi.org/project/vaderSentiment/) as a python package"
   ]
  },
  {
   "cell_type": "code",
   "execution_count": null,
   "metadata": {},
   "outputs": [],
   "source": [
    "# installing the package (library)\n",
    "! pip3 install vaderSentiment"
   ]
  },
  {
   "cell_type": "code",
   "execution_count": null,
   "metadata": {},
   "outputs": [],
   "source": [
    "from vaderSentiment.vaderSentiment import SentimentIntensityAnalyzer\n",
    "sa = SentimentIntensityAnalyzer()"
   ]
  },
  {
   "cell_type": "code",
   "execution_count": null,
   "metadata": {},
   "outputs": [],
   "source": [
    "# Let us have a look at the \"full\" lexicon\n",
    "sa.lexicon"
   ]
  },
  {
   "cell_type": "code",
   "execution_count": null,
   "metadata": {},
   "outputs": [],
   "source": [
    "# Or just part of it\n",
    "[(tok, score) for tok, score in sa.lexicon.items() if tok.startswith(\"sta\")]"
   ]
  },
  {
   "cell_type": "code",
   "execution_count": null,
   "metadata": {},
   "outputs": [],
   "source": [
    "# Let us see if there are bigrams\n",
    "[(tok, score) for tok, score in sa.lexicon.items() if \" \" in tok]"
   ]
  },
  {
   "cell_type": "code",
   "execution_count": null,
   "metadata": {},
   "outputs": [],
   "source": [
    "# Finally, let's score!!\n",
    "sa.polarity_scores(text=\"Python is very readable and it's great for NLP.\")\n"
   ]
  },
  {
   "cell_type": "markdown",
   "metadata": {},
   "source": [
    "What is the meaning of these scores?\n",
    "\n",
    "Let us look at the [documentation](https://github.com/cjhutto/vaderSentiment#about-the-scoring)"
   ]
  },
  {
   "cell_type": "code",
   "execution_count": null,
   "metadata": {},
   "outputs": [],
   "source": [
    "# Let us look at a couple of interesting examples...\n",
    "\n",
    "print(sa.polarity_scores(text=\"Python is not a bad choice for many applications.\"))\n",
    "sa.polarity_scores(text=\"Python is a bad choice for many applications.\")"
   ]
  },
  {
   "cell_type": "code",
   "execution_count": null,
   "metadata": {},
   "outputs": [],
   "source": [
    "corpus = [\"Absolutely perfect! Love it! :-) :-) :-)\",\n",
    "          \"Horrible! Completely useless. :(\",\n",
    "           \"It was OK. Some good and some bad things.\"]\n",
    "\n",
    "for doc in corpus:\n",
    "    scores = sa.polarity_scores(doc)\n",
    "    # here \":+\" is forsing the diplaying of the sign, even if positive\n",
    "    print('{:+}: {}'.format(scores['compound'], doc))"
   ]
  },
  {
   "cell_type": "code",
   "execution_count": null,
   "metadata": {},
   "outputs": [],
   "source": [
    "# Scoring an Amazon review\n",
    "\n",
    "text = \"\"\"\"This monitor is definitely a good value. Does it have superb color and \n",
    "contrast? No. Does it boast the best refresh rate on the market? No. \n",
    "But if you're tight on money, this thing looks and preforms great for the money. \n",
    "It has a Matte screen which does a great job at eliminating glare. The chassis it's enclosed \n",
    "within is absolutely stunning.\")\"\"\"\n",
    "print(\"Length of the text\", len(text.split()), \"\\n\")\n",
    "\n",
    "for i in [10, 20, 45, 60]:\n",
    "    t = \" \".join(text.split()[:i])\n",
    "    print(i,\"\\t\", t)\n",
    "    print(\"ONE TIME\", sa.polarity_scores(t))\n",
    "    print(\"THREE TIMES\", sa.polarity_scores(\" \".join([t, t, t])))\n",
    "    print()\n"
   ]
  },
  {
   "cell_type": "code",
   "execution_count": null,
   "metadata": {},
   "outputs": [],
   "source": [
    "print(sa.polarity_scores(\"this is not good\"))\n",
    "print(sa.polarity_scores(\"this is not good at all\"))"
   ]
  },
  {
   "cell_type": "code",
   "execution_count": null,
   "metadata": {},
   "outputs": [],
   "source": [
    "# Scoring a tweet\n",
    "sa.polarity_scores(\"His ass didnt concede until July 12, 2016. Because he was throwing a tantrum. I can't say this enough: Fuck Bernie Sanders\")"
   ]
  },
  {
   "cell_type": "code",
   "execution_count": null,
   "metadata": {},
   "outputs": [],
   "source": [
    "# Scoring a more recent tweet\n",
    "# https://twitter.com/KremlinRussia_E/status/1497265862784339971\n",
    "sa.polarity_scores(\"Meeting with permanent members of the Security Council. The main topic is the situation in Ukraine\")"
   ]
  },
  {
   "cell_type": "code",
   "execution_count": null,
   "metadata": {},
   "outputs": [],
   "source": [
    "sa.polarity_scores(\"Tbilisi tonight. Thank you, Georgia! #StandWithUkriane\")"
   ]
  },
  {
   "cell_type": "markdown",
   "metadata": {},
   "source": [
    "**Warning**: these tools are not perfect. They are limited.\n",
    "\n",
    "The results have to be properly analysed. \n",
    "For instance, let us consider [this tweet](https://twitter.com/Umarbison/status/1498812392951611395)..."
   ]
  },
  {
   "cell_type": "code",
   "execution_count": null,
   "metadata": {},
   "outputs": [],
   "source": [
    "tweet_1498812392951611395 = \"\"\"What if the difference? You know what! \n",
    "it is only hate! Worse thing is about media showing it hero and villian. \n",
    "End of the day we breathe same oxygen to survive. Innocents are dying \n",
    "everywhere but only the best actors are supported by media and people.\n",
    "#UkraineRussiaWar #Palestine\"\"\"\n",
    "sa.polarity_scores(tweet_1498812392951611395)"
   ]
  },
  {
   "cell_type": "markdown",
   "metadata": {},
   "source": [
    "...versus this [Amazon review](https://www.amazon.co.uk/gp/customer-reviews/R2M5ZU6IKXGQT6/ref=cm_cr_dp_d_rvw_ttl?ie=UTF8&ASIN=B07XLDLZPF) (which got 1 star)"
   ]
  },
  {
   "cell_type": "code",
   "execution_count": null,
   "metadata": {},
   "outputs": [],
   "source": [
    "amzn_review = \"\"\"Monitor seems good, but for some reason LG have taken it upon themselves to \n",
    "sink the VESA mount points into a proprietary 6mm deep cutout in the rear of the monitor, \n",
    "meaning that the Duronic monitor mounts I've been using for *every single* monitor on my desk \n",
    "for years, categorically do not fit this monitor.\n",
    "Totally defeats the point of the VESA mount standard. Stupid move LG, really dumb design.\"\"\"\n",
    "sa.polarity_scores(amzn_review)"
   ]
  },
  {
   "cell_type": "code",
   "execution_count": null,
   "metadata": {},
   "outputs": [],
   "source": []
  }
 ],
 "metadata": {
  "kernelspec": {
   "display_name": "Python 3",
   "language": "python",
   "name": "python3"
  },
  "language_info": {
   "codemirror_mode": {
    "name": "ipython",
    "version": 3
   },
   "file_extension": ".py",
   "mimetype": "text/x-python",
   "name": "python",
   "nbconvert_exporter": "python",
   "pygments_lexer": "ipython3",
   "version": "3.6.9"
  }
 },
 "nbformat": 4,
 "nbformat_minor": 1
}
