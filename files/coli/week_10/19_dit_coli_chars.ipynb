{
 "cells": [
  {
   "cell_type": "markdown",
   "metadata": {},
   "source": [
    "# Using character-level representations\n",
    "\n",
    "\n"
   ]
  },
  {
   "cell_type": "code",
   "execution_count": 1,
   "metadata": {},
   "outputs": [],
   "source": [
    "# Importing the dependencies\n",
    "import glob\n",
    "import numpy as np\n",
    "import os\n",
    "\n",
    "from random import shuffle"
   ]
  },
  {
   "cell_type": "code",
   "execution_count": 2,
   "metadata": {},
   "outputs": [],
   "source": [
    "# Add the paths to the corpus. It should end in aclImdb/train\n",
    "CORPUS_PATH = None\n",
    "CORPUS_PATH = \"/Users/albarron/corpora/misc/stanford_movie_review/aclImdb/train\""
   ]
  },
  {
   "cell_type": "code",
   "execution_count": 3,
   "metadata": {},
   "outputs": [],
   "source": [
    "# Loading the data\n",
    "\n",
    "def pre_process_data(filepath):\n",
    "    \"\"\"\n",
    "    Load pos and neg examples from separate dirs then shuffle them\n",
    "    together.\n",
    "    \"\"\"\n",
    "    positive_path = os.path.join(filepath, 'pos')\n",
    "    negative_path = os.path.join(filepath, 'neg')\n",
    "    pos_label = 1\n",
    "    neg_label = 0\n",
    "    dataset = []\n",
    "    for filename in glob.glob(os.path.join(positive_path, '*.txt')):\n",
    "        with open(filename, 'r') as f:\n",
    "            dataset.append((pos_label, f.read()))\n",
    "    for filename in glob.glob(os.path.join(negative_path, '*.txt')):\n",
    "        with open(filename, 'r') as f:\n",
    "            dataset.append((neg_label, f.read()))\n",
    "    shuffle(dataset)\n",
    "    return dataset\n",
    "\n",
    "def collect_expected(dataset):\n",
    "    \"\"\"Extracting the expected output for all the instances\"\"\"\n",
    "    return [sample[0] for sample in dataset]"
   ]
  },
  {
   "cell_type": "code",
   "execution_count": 4,
   "metadata": {},
   "outputs": [],
   "source": [
    "# Loading instances and expected classes (as usual)\n",
    "dataset = pre_process_data(CORPUS_PATH)\n",
    "expected = collect_expected(dataset)"
   ]
  },
  {
   "cell_type": "code",
   "execution_count": 5,
   "metadata": {},
   "outputs": [
    {
     "data": {
      "text/plain": [
       "1325.06964"
      ]
     },
     "execution_count": 5,
     "metadata": {},
     "output_type": "execute_result"
    }
   ],
   "source": [
    "def avg_len(data):\n",
    "    \"\"\"Computes the average length of the data\"\"\"\n",
    "    total_len = 0\n",
    "    for sample in data:\n",
    "        total_len += len(sample[1])\n",
    "    return total_len/len(data)\n",
    "avg_len(dataset)"
   ]
  },
  {
   "cell_type": "markdown",
   "metadata": {},
   "source": [
    "The average length in terms of words is 202.44 (don't believe me and go find yourself).\n",
    "\n",
    "That is, we would unroll the network **6.5x**! "
   ]
  },
  {
   "cell_type": "code",
   "execution_count": 6,
   "metadata": {},
   "outputs": [],
   "source": [
    "def clean_data(data):\n",
    "    \"\"\" Lowercase, replace unknowns with UNK, and listify \"\"\"\n",
    "    new_data = []\n",
    "    VALID = 'abcdefghijklmnopqrstuvwxyz0123456789\"\\'?!.,:; '\n",
    "    for sample in data:\n",
    "        new_sample = []\n",
    "        for char in sample[1].lower():   # Just grab the string, not the label\n",
    "            if char in VALID:\n",
    "                new_sample.append(char)\n",
    "            else:\n",
    "                new_sample.append('UNK') # a new \"character\"\n",
    "       \n",
    "        new_data.append(new_sample)\n",
    "    return new_data\n",
    "\n",
    "listified_data = clean_data(dataset)"
   ]
  },
  {
   "cell_type": "code",
   "execution_count": 7,
   "metadata": {},
   "outputs": [],
   "source": [
    "def char_pad_trunc(data, maxlen):\n",
    "    \"\"\" Truncate to maxlen or add in PAD tokens \"\"\"\n",
    "    new_dataset = []\n",
    "    for sample in data:\n",
    "        if len(sample) > maxlen:\n",
    "            new_data = sample[:maxlen]\n",
    "        elif len(sample) < maxlen:\n",
    "            pads = maxlen - len(sample)\n",
    "            new_data = sample + ['PAD'] * pads # yet other \"characters\"\n",
    "        else:\n",
    "            new_data = sample\n",
    "        new_dataset.append(new_data)\n",
    "    return new_dataset"
   ]
  },
  {
   "cell_type": "code",
   "execution_count": 8,
   "metadata": {},
   "outputs": [],
   "source": [
    "# Producing the one-hot encodings (no embeddings here!)\n",
    "def create_dicts(data):\n",
    "    \"\"\"Create bi-directional characters: from char to index and from index to char \n",
    "    Modified from Keras LSTM example\"\"\"\n",
    "    chars = set()\n",
    "    for sample in data:\n",
    "        chars.update(set(sample))\n",
    "    # what are we doing here?\n",
    "    char_indices = dict((c, i) for i, c in enumerate(chars))\n",
    "    indices_char = dict((i, c) for i, c in enumerate(chars))\n",
    "    return char_indices, indices_char"
   ]
  },
  {
   "cell_type": "code",
   "execution_count": 9,
   "metadata": {},
   "outputs": [],
   "source": [
    "def onehot_encode(dataset, char_indices, maxlen):\n",
    "    \"\"\" \n",
    "    One-hot encode the tokens\n",
    "    \n",
    "    Args:\n",
    "        dataset  list of lists of tokens\n",
    "        char_indices  dictionary of {key=character, value=index to use encoding vector}\n",
    "        maxlen  int  Length of each sample\n",
    "    Return:\n",
    "        np array of shape (samples, tokens, encoding length)\n",
    "    \"\"\"\n",
    "    X = np.zeros((len(dataset), maxlen, len(char_indices.keys())))\n",
    "    for i, sentence in enumerate(dataset):\n",
    "        for t, char in enumerate(sentence):\n",
    "            X[i, t, char_indices[char]] = 1\n",
    "    return X"
   ]
  },
  {
   "cell_type": "code",
   "execution_count": 10,
   "metadata": {},
   "outputs": [],
   "source": [
    "# Load and preprocess the data\n",
    "dataset = pre_process_data(CORPUS_PATH)\n",
    "expected = collect_expected(dataset)\n",
    "listified_data = clean_data(dataset)\n",
    "\n",
    "maxlen = 1500\n",
    "common_length_data = char_pad_trunc(listified_data, maxlen)\n",
    "\n",
    "char_indices, indices_char = create_dicts(common_length_data)\n",
    "encoded_data = onehot_encode(common_length_data, char_indices, maxlen)"
   ]
  },
  {
   "cell_type": "code",
   "execution_count": 11,
   "metadata": {},
   "outputs": [],
   "source": [
    "# Split the data\n",
    "split_point = int(len(encoded_data)*.8)\n",
    "\n",
    "x_train = encoded_data[:split_point]\n",
    "y_train = np.array(expected[:split_point])\n",
    "x_test = encoded_data[split_point:]\n",
    "y_test = np.array(expected[split_point:])\n",
    "# Pay attention: in the book they forgot to turn y_[train|test] into numpy arrays"
   ]
  },
  {
   "cell_type": "code",
   "execution_count": 12,
   "metadata": {},
   "outputs": [
    {
     "name": "stdout",
     "output_type": "stream",
     "text": [
      "Build model...\n",
      "Model: \"sequential\"\n",
      "_________________________________________________________________\n",
      "Layer (type)                 Output Shape              Param #   \n",
      "=================================================================\n",
      "lstm (LSTM)                  (None, 1500, 40)          14080     \n",
      "_________________________________________________________________\n",
      "dropout (Dropout)            (None, 1500, 40)          0         \n",
      "_________________________________________________________________\n",
      "flatten (Flatten)            (None, 60000)             0         \n",
      "_________________________________________________________________\n",
      "dense (Dense)                (None, 1)                 60001     \n",
      "=================================================================\n",
      "Total params: 74,081\n",
      "Trainable params: 74,081\n",
      "Non-trainable params: 0\n",
      "_________________________________________________________________\n"
     ]
    }
   ],
   "source": [
    "# Building the network\n",
    "from keras.models import Sequential\n",
    "from keras.layers import Dense, Dropout, Embedding, Flatten, LSTM\n",
    "\n",
    "num_neurons = 40\n",
    "\n",
    "print('Build model...')\n",
    "model = Sequential()\n",
    "\n",
    "model.add(LSTM(\n",
    "    num_neurons,\n",
    "    return_sequences=True,\n",
    "    input_shape=(maxlen, len(char_indices.keys())))\n",
    "    )\n",
    "\n",
    "model.add(Dropout(.2))\n",
    "model.add(Flatten())\n",
    "model.add(Dense(1, activation='sigmoid'))\n",
    "model.compile('rmsprop', 'binary_crossentropy', metrics=['accuracy'])\n",
    "model.summary()"
   ]
  },
  {
   "cell_type": "code",
   "execution_count": 13,
   "metadata": {},
   "outputs": [
    {
     "name": "stdout",
     "output_type": "stream",
     "text": [
      "Epoch 1/10\n",
      "625/625 [==============================] - 208s 330ms/step - loss: 0.7311 - accuracy: 0.5206 - val_loss: 0.6690 - val_accuracy: 0.5934\n",
      "Epoch 2/10\n",
      "625/625 [==============================] - 190s 305ms/step - loss: 0.6048 - accuracy: 0.6832 - val_loss: 0.6820 - val_accuracy: 0.5900\n",
      "Epoch 3/10\n",
      "625/625 [==============================] - 184s 295ms/step - loss: 0.5218 - accuracy: 0.7534 - val_loss: 0.7157 - val_accuracy: 0.5826\n",
      "Epoch 4/10\n",
      "625/625 [==============================] - 183s 292ms/step - loss: 0.4428 - accuracy: 0.8029 - val_loss: 0.7749 - val_accuracy: 0.5664\n",
      "Epoch 5/10\n",
      "625/625 [==============================] - 182s 290ms/step - loss: 0.3827 - accuracy: 0.8371 - val_loss: 0.8543 - val_accuracy: 0.5654\n",
      "Epoch 6/10\n",
      "625/625 [==============================] - 182s 291ms/step - loss: 0.3281 - accuracy: 0.8633 - val_loss: 0.9152 - val_accuracy: 0.5652\n",
      "Epoch 7/10\n",
      "625/625 [==============================] - 182s 291ms/step - loss: 0.2777 - accuracy: 0.8908 - val_loss: 1.0077 - val_accuracy: 0.5672\n",
      "Epoch 8/10\n",
      "625/625 [==============================] - 179s 287ms/step - loss: 0.2346 - accuracy: 0.9086 - val_loss: 1.0815 - val_accuracy: 0.5774\n",
      "Epoch 9/10\n",
      "625/625 [==============================] - 178s 285ms/step - loss: 0.2029 - accuracy: 0.9212 - val_loss: 1.1727 - val_accuracy: 0.5744\n",
      "Epoch 10/10\n",
      "625/625 [==============================] - 179s 286ms/step - loss: 0.1772 - accuracy: 0.9346 - val_loss: 1.3071 - val_accuracy: 0.5898\n"
     ]
    },
    {
     "data": {
      "text/plain": [
       "<tensorflow.python.keras.callbacks.History at 0x16562ac40>"
      ]
     },
     "execution_count": 13,
     "metadata": {},
     "output_type": "execute_result"
    }
   ],
   "source": [
    "# Training the network\n",
    "batch_size = 32\n",
    "epochs = 10\n",
    "model.fit(x_train, y_train,\n",
    "    batch_size=batch_size,\n",
    "    epochs=epochs,\n",
    "    validation_data=(x_test, y_test)\n",
    "    )\n",
    "# This will take about 3-4 minutes/epoch"
   ]
  },
  {
   "cell_type": "code",
   "execution_count": null,
   "metadata": {},
   "outputs": [],
   "source": [
    "# Saving the model\n",
    "model_structure = model.to_json()\n",
    "with open(\"char_lstm_model3.json\", \"w\") as json_file:\n",
    "    json_file.write(model_structure)\n",
    "model.save_weights(\"char_lstm_weights3.h5\")"
   ]
  },
  {
   "cell_type": "markdown",
   "metadata": {},
   "source": [
    "**Back to the slides**"
   ]
  },
  {
   "cell_type": "code",
   "execution_count": null,
   "metadata": {},
   "outputs": [],
   "source": []
  }
 ],
 "metadata": {
  "kernelspec": {
   "display_name": "Python 3",
   "language": "python",
   "name": "python3"
  },
  "language_info": {
   "codemirror_mode": {
    "name": "ipython",
    "version": 3
   },
   "file_extension": ".py",
   "mimetype": "text/x-python",
   "name": "python",
   "nbconvert_exporter": "python",
   "pygments_lexer": "ipython3",
   "version": "3.8.13"
  }
 },
 "nbformat": 4,
 "nbformat_minor": 4
}
